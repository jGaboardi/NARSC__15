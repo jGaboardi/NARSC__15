{
 "cells": [
  {
   "cell_type": "markdown",
   "metadata": {},
   "source": [
    "# Network-Based Model Building for Discrete Location Allocation in Python: Integrating PySAL and Gurobi\n",
    "\n",
    "------\n",
    "\n",
    "\n",
    "### James D. Gaboardi,  David C. Folch\n",
    "\n",
    "------\n",
    "\n",
    "### Florida State University,  Department of Geography"
   ]
  },
  {
   "cell_type": "markdown",
   "metadata": {},
   "source": [
    "---------------"
   ]
  },
  {
   "cell_type": "markdown",
   "metadata": {},
   "source": [
    "## Python 2.7\n",
    "## https://www.python.org"
   ]
  },
  {
   "cell_type": "markdown",
   "metadata": {},
   "source": [
    "-------------------"
   ]
  },
  {
   "cell_type": "markdown",
   "metadata": {},
   "source": [
    "## PySAL 1.11.0dev\n",
    "## Python Spatial Analysis Library\n",
    "## https://www.pysal.readthedocs.org"
   ]
  },
  {
   "cell_type": "markdown",
   "metadata": {},
   "source": [
    "------------------------"
   ]
  },
  {
   "cell_type": "markdown",
   "metadata": {},
   "source": [
    "## Gurobi 6.5\n",
    "## GurobiPy\n",
    "## http://www.gurobi.com"
   ]
  },
  {
   "cell_type": "markdown",
   "metadata": {},
   "source": [
    "-------------------"
   ]
  },
  {
   "cell_type": "markdown",
   "metadata": {},
   "source": [
    "## 1. <u>Optimization in GIS & the Current State</u>\n",
    "## 2. <u>Demonstration of PySAL + Gurobi</u>\n",
    "###   &nbsp;&nbsp;&nbsp;&nbsp;&nbsp;&nbsp; • <u>Imports</u>\n",
    "###   &nbsp;&nbsp;&nbsp;&nbsp;&nbsp;&nbsp; •  <u>Data Preparation & Creation</u>\n",
    "###   &nbsp;&nbsp;&nbsp;&nbsp;&nbsp;&nbsp; •  <u>Mathematical Optimization</u>\n",
    "###   &nbsp;&nbsp;&nbsp;&nbsp;&nbsp;&nbsp; •  <u>Set Cover Location Problem</u>\n",
    "###   &nbsp;&nbsp;&nbsp;&nbsp;&nbsp;&nbsp; •  <u><i>p</i>-Median Problem</u>\n",
    "###   &nbsp;&nbsp;&nbsp;&nbsp;&nbsp;&nbsp; •  <u><i>p</i>-Center Problem</u>\n",
    "###   &nbsp;&nbsp;&nbsp;&nbsp;&nbsp;&nbsp; •  <u>Visualization of Selected Locations</u>\n",
    "## 3. <u>Next Steps</u>"
   ]
  },
  {
   "cell_type": "markdown",
   "metadata": {},
   "source": [
    "<p><font size='6' face='Times New Roman'><b>References</b></font></p>\n",
    "\n",
    "\n",
    "^^^^ get rid of this section?"
   ]
  },
  {
   "cell_type": "markdown",
   "metadata": {},
   "source": [
    "-------------------"
   ]
  },
  {
   "cell_type": "markdown",
   "metadata": {},
   "source": [
    "--------"
   ]
  },
  {
   "cell_type": "markdown",
   "metadata": {},
   "source": [
    "## <u>Imports & Specs</u>"
   ]
  },
  {
   "cell_type": "code",
   "execution_count": 1,
   "metadata": {
    "collapsed": true
   },
   "outputs": [],
   "source": [
    "import datetime as dt\n",
    "import IPython.display as IPd\n",
    "import os\n",
    "import platform\n",
    "from prettytable import from_csv\n",
    "import sys\n",
    "import time\n",
    "\n",
    "path = '/Users/jgaboardi/NARSC__15/'"
   ]
  },
  {
   "cell_type": "markdown",
   "metadata": {},
   "source": [
    "# 1.&nbsp;&nbsp;&nbsp;&nbsp; <u>Optimization & GIS: Current State</u>"
   ]
  },
  {
   "cell_type": "markdown",
   "metadata": {},
   "source": [
    "## <u>Open Source Software Options</u>"
   ]
  },
  {
   "cell_type": "markdown",
   "metadata": {},
   "source": [
    "many of the software options below don't implement the algorithms we need and this list is not exhaustive"
   ]
  },
  {
   "cell_type": "code",
   "execution_count": 2,
   "metadata": {
    "collapsed": false
   },
   "outputs": [
    {
     "name": "stdout",
     "output_type": "stream",
     "text": [
      "+------------------+------------------------+--------------+--------------------------------+\n",
      "|   Open Source    |          Type          | last updated |             Notes              |\n",
      "+------------------+------------------------+--------------+--------------------------------+\n",
      "|     COIN-OR      | Open Source Initiative |              |   many resources associated    |\n",
      "| CoinGraphClasses |        Library         |              |   network algorithms (COIN)    |\n",
      "|       CMPL       |        Language        |              |             (COIN)             |\n",
      "|      CoinMP      |   Interface Library    |              |      supports CLP-CBC-CGL      |\n",
      "|       CLP        |       LP Solver        |              |         Coin LP (COIN)         |\n",
      "|       CBC        |      MILP Solver       |              |   Coin Branch-and-Cut (COIN)   |\n",
      "|       CGL        |        Library         |              | Cut Generation Library (COIN)  |\n",
      "|     Symphony     |  MILP Solver/Library   |  10/10/2015  |             (COIN)             |\n",
      "|       dlib       |        Library         |              |              C++               |\n",
      "|       GLPK       |         Solver         |  10/1/2015   |      complicated install       |\n",
      "|      GrUMPY      |        Library         |  3/28/2015   |         visualizations         |\n",
      "|    JOptimizer    |        Library         |  12/20/2014  |      minimization in Java      |\n",
      "|      LEMON       |        Library         |              |           C++ (COIN)           |\n",
      "|      Liger       | Integrated Environment |   9/7/2013   |              C++               |\n",
      "|      Midaco      |         Solver         |   5/1/2013   |         many languages         |\n",
      "|      NOMAD       |         Solver         |   3/1/2015   |              C++               |\n",
      "|     OpenMDAO     |   Library of Solvers   |  4/28/2015   |             Python             |\n",
      "|     OpenOpt      |        Library         |   8/8/2015   |         Python Package         |\n",
      "|       PPL        |         Solver         |   8/1/2013   |             C/C++              |\n",
      "|      Scilab      |        Language        |  3/31/2015   |                                |\n",
      "|  SciPy.Optimize  |        Library         |  7/23/2015   |         Python Package         |\n",
      "|       PuLP       |       LP Modeler       |   6/9/2015   | Python to call solvers  (COIN) |\n",
      "+------------------+------------------------+--------------+--------------------------------+\n"
     ]
    }
   ],
   "source": [
    "# Table of Open-Source software for optimization\n",
    "OpenOpt = open(path+'NARSC__Optimizers__Open.csv', \"r\")\n",
    "OpenTable = from_csv(OpenOpt)\n",
    "print OpenTable\n",
    "OpenOpt.close()"
   ]
  },
  {
   "cell_type": "markdown",
   "metadata": {},
   "source": [
    "## <u>Proprietary Software Options</u>"
   ]
  },
  {
   "cell_type": "markdown",
   "metadata": {},
   "source": [
    "*this list is not exhaustive*"
   ]
  },
  {
   "cell_type": "code",
   "execution_count": 3,
   "metadata": {
    "collapsed": false
   },
   "outputs": [
    {
     "name": "stdout",
     "output_type": "stream",
     "text": [
      "+--------------------------+-------------------+--------------------------------+\n",
      "|       Proprietary        |        Type       |             Notes              |\n",
      "+--------------------------+-------------------+--------------------------------+\n",
      "|           AMPL           |   Solver/Modeler  |      30-day student trial      |\n",
      "|          ArcGIS          |        GIS        |      Network Analyst Tool      |\n",
      "|          CPLEX           |       Solver      |     free academic license      |\n",
      "|          Gurobi          |       Solver      |     free academic license      |\n",
      "| IMSL Numerical Libraries |     Libraries     |                                |\n",
      "|          Kimeme          |       Solver      |        multi-objective         |\n",
      "|          Lingo           |       Solver      |                                |\n",
      "|          Maple           |       Solver      |                                |\n",
      "|          MATLAB          |       Solver      |      Optimization Toolbox      |\n",
      "|          MOSEK           |       Solver      |                                |\n",
      "|           NAG            |       Solver      |                                |\n",
      "|          SAS/OR          |       Solver      |                                |\n",
      "|          TOMLAB          | Platform/Language |                                |\n",
      "|         TransCAD         |        GIS        | efficient cost matrix creation |\n",
      "|          XPRESS          |       Solver      |                                |\n",
      "+--------------------------+-------------------+--------------------------------+\n"
     ]
    }
   ],
   "source": [
    "# Table of Proprietary software for optimization\n",
    "PropOpt = open(path+'NARSC__Optimizers__Proprietary.csv', \"r\")\n",
    "PropTable = from_csv(PropOpt)\n",
    "print PropTable\n",
    "PropOpt.close()"
   ]
  },
  {
   "cell_type": "markdown",
   "metadata": {},
   "source": [
    "## <u>Potential for error</u>"
   ]
  },
  {
   "cell_type": "markdown",
   "metadata": {},
   "source": [
    "This is an example of the workflow for another paper I am currently working on using a traditional method.  This involves manual data input and processing with lots of button clicking at every step in the schema. This is very similar to an Operations Research approach to model building and Operations Research Methodology Diagram (Bertrand and Fransoo 2002, pulp documentation 2009)."
   ]
  },
  {
   "cell_type": "code",
   "execution_count": 4,
   "metadata": {
    "collapsed": false,
    "scrolled": true
   },
   "outputs": [
    {
     "data": {
      "image/png": "[encoded data removed]",
      "text/plain": [
       "<IPython.core.display.Image object>"
      ]
     },
     "execution_count": 4,
     "metadata": {},
     "output_type": "execute_result"
    }
   ],
   "source": [
    "# Manual Conceptual Model\n",
    "#My_Manual = IPd.Image(path+'/Manual_Diagram.png')\n",
    "My_Manual = IPd.Image('/Users/jgaboardi/Dropbox/Apps/drawio/Manual_Diagram.png')\n",
    "My_Manual"
   ]
  },
  {
   "cell_type": "markdown",
   "metadata": {},
   "source": [
    "## <b>So why do things differently?\n",
    "\n",
    "When solving spatial problems in a GIS, there are lots of files to keep track of and lots of button clicking. This can lead to compounded errors at every stage in the process."
   ]
  },
  {
   "cell_type": "markdown",
   "metadata": {},
   "source": [
    "-------------------"
   ]
  },
  {
   "cell_type": "markdown",
   "metadata": {},
   "source": [
    "# 2. &nbsp;&nbsp;&nbsp;&nbsp;<u>Demonstration</u>"
   ]
  },
  {
   "cell_type": "markdown",
   "metadata": {},
   "source": [
    "The following flowchart is a conceptual model of my current workflow.  This workflow mimics the one described above, but the processes within are largely automated to minimize human error in data handling, etc.\n",
    "\n",
    "This workflow will be demonstrated next."
   ]
  },
  {
   "cell_type": "code",
   "execution_count": 5,
   "metadata": {
    "collapsed": false
   },
   "outputs": [
    {
     "data": {
      "image/png": "[encoded data removed]",
      "text/plain": [
       "<IPython.core.display.Image object>"
      ]
     },
     "execution_count": 5,
     "metadata": {},
     "output_type": "execute_result"
    }
   ],
   "source": [
    "# Automated Conceptual Model\n",
    "#My_Auto = IPd.Image(path+'/Auto_Diagram.png')\n",
    "My_Auto = IPd.Image('/Users/jgaboardi/Dropbox/Apps/drawio/Auto_Diagram.png')\n",
    "My_Auto"
   ]
  },
  {
   "cell_type": "markdown",
   "metadata": {},
   "source": [
    "## <u>Imports & Specs</u>"
   ]
  },
  {
   "cell_type": "code",
   "execution_count": 6,
   "metadata": {
    "collapsed": false
   },
   "outputs": [
    {
     "name": "stdout",
     "output_type": "stream",
     "text": [
      "Populating the interactive namespace from numpy and matplotlib\n",
      "********************************************************\n",
      " | Platform Specs:                                    |\n",
      " |  | OS X v 10.11.1                                  |\n",
      " |  | Processor:  i386                                |\n",
      " |  | Machine:  x86_64                                |\n",
      " |  | Python:  2.7.9                                  |\n",
      " |  | PySAL:  1.11.0dev                               |\n",
      " |  | Gurobi:  (6, 5, 0)                              |\n",
      "********************************************************\n",
      " |  | Date/Time ---------  2015-11-04 19:33:45.066364 |\n",
      "********************************************************\n"
     ]
    }
   ],
   "source": [
    "from collections import OrderedDict\n",
    "import geopandas as gpd\n",
    "import gurobipy as gbp\n",
    "import networkx as nx\n",
    "import numpy as np\n",
    "import pysal as ps\n",
    "import shapefile as shp\n",
    "%pylab inline\n",
    "\n",
    "print '********************************************************'\n",
    "print ' | Platform Specs:                                    |'\n",
    "print ' |  | OS X v', platform.mac_ver()[0],'                                 |'\n",
    "print ' |  | Processor: ', platform.processor(), '                               |'\n",
    "print ' |  | Machine: ', platform.machine(), '                               |'\n",
    "print ' |  | Python: ', platform.python_version(), '                                 |'\n",
    "print ' |  | PySAL: ', ps.version, '                              |'\n",
    "print ' |  | Gurobi: ', gbp.gurobi.version(),'                             |'\n",
    "print '********************************************************'\n",
    "print ' |  | Date/Time --------- ', dt.datetime.now(), '|'\n",
    "print '********************************************************'"
   ]
  },
  {
   "cell_type": "markdown",
   "metadata": {
    "collapsed": true
   },
   "source": [
    "## <u>PySAL</u>"
   ]
  },
  {
   "cell_type": "code",
   "execution_count": 7,
   "metadata": {
    "collapsed": false
   },
   "outputs": [
    {
     "name": "stdout",
     "output_type": "stream",
     "text": [
      "PySAL\n",
      "['Box_Plot', 'DistanceBand', 'Equal_Interval', 'Fisher_Jenks', 'G', 'G_Local', 'Gamma', 'Geary', 'IOHandlers', 'Jenks_Caspall', 'Jenks_Caspall_Forced', 'Jenks_Caspall_Sampled', 'Join_Counts', 'K_classifiers', 'Kernel', 'LISA_Markov', 'MISSINGVALUE', 'Markov', 'Max_P_Classifier', 'Maximum_Breaks', 'Maxp', 'Maxp_LISA', 'Moran', 'Moran_BV', 'Moran_BV_matrix', 'Moran_Local', 'Natural_Breaks', 'Network', 'NetworkF', 'NetworkG', 'NetworkK', 'Percentiles', 'Quantiles', 'SpatialTau', 'Spatial_Markov', 'Std_Mean', 'Tau', 'Theil', 'TheilD', 'TheilDSim', 'Theta', 'User_Defined', 'W', 'WSP', '__builtins__', '__doc__', '__file__', '__name__', '__package__', '__path__', 'adaptive_kernelW', 'adaptive_kernelW_from_shapefile', 'base_path', 'bin', 'bin1d', 'binC', 'block_weights', 'buildContiguity', 'build_lattice_shapefile', 'cg', 'check_version', 'comb', 'common', 'config', 'config_path', 'core', 'datetime', 'directional', 'ergodic', 'esda', 'examples', 'full', 'gadf', 'hexLat2W', 'higher_order', 'higher_order_sp', 'inequality', 'json', 'kernelW', 'kernelW_from_shapefile', 'knnW', 'knnW_from_array', 'knnW_from_shapefile', 'lag_spatial', 'lat2W', 'min_threshold_dist_from_shapefile', 'network', 'open', 'order', 'os', 'pysal', 'quantile', 'queen_from_shapefile', 'query_yes_no', 'regime_weights', 'region', 'remap_ids', 'rook_from_shapefile', 'shimbel', 'spatial_dynamics', 'spreg', 'stable_release_date', 'sys', 'threshold_binaryW_from_array', 'threshold_binaryW_from_shapefile', 'threshold_continuousW_from_array', 'threshold_continuousW_from_shapefile', 'turn_off_check', 'urllib2', 'version', 'w_difference', 'w_intersection', 'w_subset', 'w_symmetric_difference', 'w_union', 'weight_convert', 'weights']\n",
      "\n",
      "PySAL.Network\n",
      "['NetworkF', 'NetworkG', 'NetworkK', '__doc__', '__init__', '__module__', '_extractnetwork', '_newpoint_coords', '_round_sig', '_snap_to_edge', '_yieldneighbor', 'allneighbordistances', 'compute_distance_to_nodes', 'contiguityweights', 'count_per_edge', 'distancebandweights', 'enum_links_node', 'extractgraph', 'loadnetwork', 'nearestneighbordistances', 'node_distance_matrix', 'savenetwork', 'segment_edges', 'simulate_observations', 'snapobservations']\n"
     ]
    }
   ],
   "source": [
    "print 'PySAL'\n",
    "print dir(ps)\n",
    "print '\\nPySAL.Network'\n",
    "print dir(ps.Network)"
   ]
  },
  {
   "cell_type": "markdown",
   "metadata": {},
   "source": [
    "-----------------"
   ]
  },
  {
   "cell_type": "markdown",
   "metadata": {},
   "source": [
    "## 2.1 &nbsp;&nbsp;&nbsp;&nbsp;<u>Data preparation and creation</u>"
   ]
  },
  {
   "cell_type": "markdown",
   "metadata": {},
   "source": [
    "### 2.1.1 &nbsp;&nbsp;&nbsp;&nbsp;<u>Instantiate a network</u>"
   ]
  },
  {
   "cell_type": "markdown",
   "metadata": {},
   "source": [
    "First, I start out by instantiating a network by reading a shapefile in as a network object with `PySAL`.  I use Waverly Hills, a smallish neighborhood in Tallahassee, FL where quite a few professors at Florida State University own homes.  This shapefile was clipped from a US Census TIGER/Line file (US Census Bureau 2015).\n",
    "\n",
    "Note: Steps 3.1.3 through 3.1.7 are needed to create a toy dataset of aggregated population demand points (i.e. census blocks) and service facilities (i.e. pay phones). These steps are eliminated when reading in actual datasets."
   ]
  },
  {
   "cell_type": "code",
   "execution_count": 9,
   "metadata": {
    "collapsed": false
   },
   "outputs": [],
   "source": [
    "# Instanitate network of Waverly Hills\n",
    "ntw = ps.Network('Waverly/Waverly.shp')"
   ]
  },
  {
   "cell_type": "markdown",
   "metadata": {},
   "source": [
    "### 2.1.2 &nbsp;&nbsp;&nbsp;&nbsp;<u>Instantiate all graphs to be drawn</u>"
   ]
  },
  {
   "cell_type": "markdown",
   "metadata": {},
   "source": [
    "Next, I instantiate the graphs to be drawn for visualization. This includes a representation of edges comprising the road network and nodes for the demand and service nodes. `NetworkX` is utilized for this step."
   ]
  },
  {
   "cell_type": "code",
   "execution_count": 10,
   "metadata": {
    "collapsed": false
   },
   "outputs": [],
   "source": [
    "# Roads and Nodes\n",
    "g = nx.Graph()\n",
    "\n",
    "# Graph of Roads and Nodes\n",
    "g1 = nx.MultiGraph()\n",
    "\n",
    "# Clients\n",
    "GRAPH_client = nx.Graph()\n",
    "\n",
    "# Snapped Clients\n",
    "g_client = nx.Graph()\n",
    "\n",
    "# Service\n",
    "GRAPH_service = nx.Graph()\n",
    "\n",
    "# Snapped Service\n",
    "g_service = nx.Graph()\n",
    "\n",
    "## Optimized Locations\n",
    "# Set Cover\n",
    "setcover_g = nx.Graph()\n",
    "\n",
    "# p-Median\n",
    "median_g = nx.Graph()\n",
    "\n",
    "# p-Center\n",
    "center_g = nx.Graph()"
   ]
  },
  {
   "cell_type": "markdown",
   "metadata": {},
   "source": [
    "### 2.1.3 &nbsp;&nbsp;&nbsp;&nbsp;<u>Create Bounding Box from the roads in 'Waverly.shp'</u>"
   ]
  },
  {
   "cell_type": "code",
   "execution_count": 11,
   "metadata": {
    "collapsed": false
   },
   "outputs": [
    {
     "data": {
      "text/plain": [
       "[-84.280694, 30.450132999999997, -84.24955399999999, 30.507330999999997]"
      ]
     },
     "execution_count": 11,
     "metadata": {},
     "output_type": "execute_result"
    }
   ],
   "source": [
    "#shp_W = pd\n",
    "shp_W = ps.open('Waverly/Waverly.shp')\n",
    "shp_W.bbox"
   ]
  },
  {
   "cell_type": "code",
   "execution_count": 12,
   "metadata": {
    "collapsed": true
   },
   "outputs": [],
   "source": [
    "# Client latitude\n",
    "lat_client = np.random.uniform(shp_W.bbox[0], shp_W.bbox[2], 100)\n",
    "\n",
    "# Client longitude\n",
    "lon_client = np.random.uniform(shp_W.bbox[1], shp_W.bbox[3], 100)\n",
    "\n",
    "# Service latitude\n",
    "lat_service = np.random.uniform(shp_W.bbox[0], shp_W.bbox[2], 50)\n",
    "\n",
    "# Service longitude\n",
    "lon_service = np.random.uniform(shp_W.bbox[1], shp_W.bbox[3], 50)"
   ]
  },
  {
   "cell_type": "code",
   "execution_count": 13,
   "metadata": {
    "collapsed": true
   },
   "outputs": [],
   "source": [
    "# Client lat/lon coordinates\n",
    "rand_coords_client = map(list, zip(lat_client, lon_client))\n",
    "\n",
    "# Service lat/lon coordinates\n",
    "rand_coords_service = map(list, zip(lat_service, lon_service))"
   ]
  },
  {
   "cell_type": "code",
   "execution_count": 14,
   "metadata": {
    "collapsed": true
   },
   "outputs": [],
   "source": [
    "# Empty Clients dictionary\n",
    "points_client = {}\n",
    "\n",
    "# Empty Service dictionary\n",
    "points_service = {}"
   ]
  },
  {
   "cell_type": "code",
   "execution_count": 15,
   "metadata": {
    "collapsed": false
   },
   "outputs": [],
   "source": [
    "# CLIENT with {id: [lon, lat], } format\n",
    "for idx, coordsC in enumerate(rand_coords_client):\n",
    "    GRAPH_client.add_node(idx)\n",
    "    points_client[idx] = coordsC\n",
    "    GRAPH_client.node[idx] = coordsC\n",
    "\n",
    "# SERVICE with {id: [lon, lat], } format  \n",
    "for idx, coords in enumerate(rand_coords_service):\n",
    "    GRAPH_service.add_node(idx)\n",
    "    points_service[idx] = coords\n",
    "    GRAPH_service.node[idx] = coords"
   ]
  },
  {
   "cell_type": "code",
   "execution_count": 29,
   "metadata": {
    "collapsed": false
   },
   "outputs": [],
   "source": [
    "Waverly = gpd.read_file('Waverly/Waverly.shp')\n",
    "\n",
    "\n",
    "#CLI = gpd.GeoDataFrame((rand_coords_client[i] for i in rand_coords_client), columns=['geometry'])"
   ]
  },
  {
   "cell_type": "code",
   "execution_count": 31,
   "metadata": {
    "collapsed": false
   },
   "outputs": [
    {
     "name": "stdout",
     "output_type": "stream",
     "text": [
      "{'init': u'epsg:4269'}\n"
     ]
    }
   ],
   "source": [
    "print Waverly.crs"
   ]
  },
  {
   "cell_type": "code",
   "execution_count": 32,
   "metadata": {
    "collapsed": false
   },
   "outputs": [
    {
     "data": {
      "text/plain": [
       "<matplotlib.axes._subplots.AxesSubplot at 0x1150b5e10>"
      ]
     },
     "execution_count": 32,
     "metadata": {},
     "output_type": "execute_result"
    },
    {
     "data": {
      "image/png": "[encoded data removed]",
      "text/plain": [
       "<matplotlib.figure.Figure at 0x103c6c4d0>"
      ]
     },
     "metadata": {},
     "output_type": "display_data"
    }
   ],
   "source": [
    "Waverly.plot()"
   ]
  },
  {
   "cell_type": "code",
   "execution_count": 19,
   "metadata": {
    "collapsed": false
   },
   "outputs": [
    {
     "data": {
      "text/html": [
       "<div>\n",
       "<table border=\"1\" class=\"dataframe\">\n",
       "  <thead>\n",
       "    <tr style=\"text-align: right;\">\n",
       "      <th></th>\n",
       "      <th>geometry</th>\n",
       "    </tr>\n",
       "  </thead>\n",
       "  <tbody>\n",
       "    <tr>\n",
       "      <th>0</th>\n",
       "      <td>-84.271188</td>\n",
       "    </tr>\n",
       "    <tr>\n",
       "      <th>1</th>\n",
       "      <td>30.496761</td>\n",
       "    </tr>\n",
       "  </tbody>\n",
       "</table>\n",
       "</div>"
      ],
      "text/plain": [
       "    geometry\n",
       "0 -84.271188\n",
       "1  30.496761"
      ]
     },
     "execution_count": 19,
     "metadata": {},
     "output_type": "execute_result"
    }
   ],
   "source": [
    "CLI"
   ]
  },
  {
   "cell_type": "markdown",
   "metadata": {},
   "source": [
    "In order to create fake demand and service nodes for this toy problem I create a bounding latitude and longitude box from the extremes of the 'Waverly.shp' of the Waverly Hills neighborhood. The total area is roughly 1.5 square miles."
   ]
  },
  {
   "cell_type": "code",
   "execution_count": null,
   "metadata": {
    "collapsed": false
   },
   "outputs": [],
   "source": [
    "# Open Waverly.shp\n",
    "#shp_W = ps.open('Waverly/Waverly.shp')\n",
    "\n",
    "# Create bounding box from Waverly.shp\n",
    "#shp_W.bbox"
   ]
  },
  {
   "cell_type": "code",
   "execution_count": null,
   "metadata": {
    "collapsed": true
   },
   "outputs": [],
   "source": []
  },
  {
   "cell_type": "code",
   "execution_count": null,
   "metadata": {
    "collapsed": true
   },
   "outputs": [],
   "source": []
  },
  {
   "cell_type": "code",
   "execution_count": null,
   "metadata": {
    "collapsed": true
   },
   "outputs": [],
   "source": []
  },
  {
   "cell_type": "code",
   "execution_count": null,
   "metadata": {
    "collapsed": true
   },
   "outputs": [],
   "source": []
  },
  {
   "cell_type": "markdown",
   "metadata": {},
   "source": [
    "### 2.1.4 &nbsp;&nbsp;&nbsp;&nbsp;<u>Create numpy arrays of random floats within a  bounding box</u>"
   ]
  },
  {
   "cell_type": "markdown",
   "metadata": {},
   "source": [
    "Within the bounding box I create lists of 100 random real numbers for the latitude and longitude of demand points (clients), then 50 random real numbers for the latitude and longitude of the service points with `Numpy`."
   ]
  },
  {
   "cell_type": "code",
   "execution_count": null,
   "metadata": {
    "collapsed": false
   },
   "outputs": [],
   "source": [
    "# Client latitude\n",
    "lat_client = np.random.uniform(shp_W.bbox[0], shp_W.bbox[2], 100)\n",
    "\n",
    "# Client longitude\n",
    "lon_client = np.random.uniform(shp_W.bbox[1], shp_W.bbox[3], 100)\n",
    "\n",
    "# Service latitude\n",
    "lat_service = np.random.uniform(shp_W.bbox[0], shp_W.bbox[2], 50)\n",
    "\n",
    "# Service longitude\n",
    "lon_service = np.random.uniform(shp_W.bbox[1], shp_W.bbox[3], 50)"
   ]
  },
  {
   "cell_type": "markdown",
   "metadata": {},
   "source": [
    "### 2.1.5 &nbsp;&nbsp;&nbsp;&nbsp;<u>Zip the latitude and longitude lists together</u>"
   ]
  },
  {
   "cell_type": "markdown",
   "metadata": {},
   "source": [
    "Next, these 4 lists are zipped together to form 2: a list of client lat/lons and a list and service lat/lons"
   ]
  },
  {
   "cell_type": "code",
   "execution_count": null,
   "metadata": {
    "collapsed": false
   },
   "outputs": [],
   "source": [
    "# Client lat/lon coordinates\n",
    "rand_coords_client = map(list, zip(lat_client, lon_client))\n",
    "\n",
    "# Service lat/lon coordinates\n",
    "rand_coords_service = map(list, zip(lat_service, lon_service))"
   ]
  },
  {
   "cell_type": "markdown",
   "metadata": {},
   "source": [
    "### 2.1.6 &nbsp;&nbsp;&nbsp;&nbsp;<u>Create Empty Random Points Dictionaries</u>"
   ]
  },
  {
   "cell_type": "markdown",
   "metadata": {},
   "source": [
    "Dictionaries are instantiated to house the point location data for the client and service facilities."
   ]
  },
  {
   "cell_type": "code",
   "execution_count": null,
   "metadata": {
    "collapsed": true
   },
   "outputs": [],
   "source": [
    "# Empty Clients dictionary\n",
    "points_client = {}\n",
    "\n",
    "# Empty Service dictionary\n",
    "points_service = {}"
   ]
  },
  {
   "cell_type": "markdown",
   "metadata": {},
   "source": [
    "### 2.1.7 &nbsp;&nbsp;&nbsp;&nbsp;<u>Fill dictionaries of random roints</u>"
   ]
  },
  {
   "cell_type": "markdown",
   "metadata": {},
   "source": [
    "The dictionaries that have just been created are now filled with the ids and lat/lons of the points."
   ]
  },
  {
   "cell_type": "code",
   "execution_count": null,
   "metadata": {
    "collapsed": false
   },
   "outputs": [],
   "source": [
    "# CLIENT with {id: [lon, lat], } format\n",
    "for idx, coords in enumerate(rand_coords_client):\n",
    "    GRAPH_client.add_node(idx)\n",
    "    points_client[idx] = coords\n",
    "    GRAPH_client.node[idx] = coords\n",
    "\n",
    "# SERVICE with {id: [lon, lat], } format  \n",
    "for idx, coords in enumerate(rand_coords_service):\n",
    "    GRAPH_service.add_node(idx)\n",
    "    points_service[idx] = coords\n",
    "    GRAPH_service.node[idx] = coords"
   ]
  },
  {
   "cell_type": "markdown",
   "metadata": {},
   "source": [
    "### 2.1.8 &nbsp;&nbsp;&nbsp;&nbsp;<u>Draw roads, simplified network, and random client & service nodes</u>"
   ]
  },
  {
   "cell_type": "markdown",
   "metadata": {},
   "source": [
    "The following is a visualization of the data I have just created and the roads in Waverly Hills using `matplotlib`.  The roads and nodes are derived for network object created in [3.1.1].\n",
    "\n",
    "Nodes in pink represent the actual intersections and the roads are represented in light red. The simplified network (connecting graph nodes) is gray and the remaining graph nodes (where a choice in forward destination is possible) are red.  These are necessary for determination of a shortest path and greatly would diminish the computational time (once we work the code out).\n",
    "\n",
    "The client nodes are represented in blue and the service nodes are represented in cyan."
   ]
  },
  {
   "cell_type": "code",
   "execution_count": 34,
   "metadata": {
    "collapsed": false
   },
   "outputs": [
    {
     "name": "stdout",
     "output_type": "stream",
     "text": [
      "2015-11-04 19:47:14.243682\n"
     ]
    },
    {
     "ename": "AttributeError",
     "evalue": "'tuple' object has no attribute 'update'",
     "output_type": "error",
     "traceback": [
      "\u001b[0;31m---------------------------------------------------------------------------\u001b[0m",
      "\u001b[0;31mAttributeError\u001b[0m                            Traceback (most recent call last)",
      "\u001b[0;32m<ipython-input-34-0391333e7094>\u001b[0m in \u001b[0;36m<module>\u001b[0;34m()\u001b[0m\n\u001b[1;32m     14\u001b[0m     \u001b[0;31m# highlights cases where start and end node are the same\u001b[0m\u001b[0;34m\u001b[0m\u001b[0;34m\u001b[0m\u001b[0m\n\u001b[1;32m     15\u001b[0m     \u001b[0;32mif\u001b[0m \u001b[0me\u001b[0m\u001b[0;34m[\u001b[0m\u001b[0;36m0\u001b[0m\u001b[0;34m]\u001b[0m\u001b[0;34m==\u001b[0m\u001b[0me\u001b[0m\u001b[0;34m[\u001b[0m\u001b[0;36m1\u001b[0m\u001b[0;34m]\u001b[0m\u001b[0;34m:\u001b[0m\u001b[0;34m\u001b[0m\u001b[0m\n\u001b[0;32m---> 16\u001b[0;31m         \u001b[0mg1\u001b[0m\u001b[0;34m.\u001b[0m\u001b[0madd_node\u001b[0m\u001b[0;34m(\u001b[0m\u001b[0me\u001b[0m\u001b[0;34m[\u001b[0m\u001b[0;36m0\u001b[0m\u001b[0;34m]\u001b[0m\u001b[0;34m)\u001b[0m\u001b[0;34m\u001b[0m\u001b[0m\n\u001b[0m\u001b[1;32m     17\u001b[0m \u001b[0;32mfor\u001b[0m \u001b[0mnode_id\u001b[0m \u001b[0;32min\u001b[0m \u001b[0mg1\u001b[0m\u001b[0;34m.\u001b[0m\u001b[0mnode\u001b[0m\u001b[0;34m:\u001b[0m\u001b[0;34m\u001b[0m\u001b[0m\n\u001b[1;32m     18\u001b[0m     \u001b[0mg1\u001b[0m\u001b[0;34m.\u001b[0m\u001b[0mnode\u001b[0m\u001b[0;34m[\u001b[0m\u001b[0mnode_id\u001b[0m\u001b[0;34m]\u001b[0m \u001b[0;34m=\u001b[0m \u001b[0mntw\u001b[0m\u001b[0;34m.\u001b[0m\u001b[0mnode_coords\u001b[0m\u001b[0;34m[\u001b[0m\u001b[0mnode_id\u001b[0m\u001b[0;34m]\u001b[0m\u001b[0;34m\u001b[0m\u001b[0m\n",
      "\u001b[0;32m/Users/jgaboardi/Library/Enthought/Canopy_64bit/User/lib/python2.7/site-packages/networkx/classes/graph.pyc\u001b[0m in \u001b[0;36madd_node\u001b[0;34m(self, n, attr_dict, **attr)\u001b[0m\n\u001b[1;32m    461\u001b[0m             \u001b[0mself\u001b[0m\u001b[0;34m.\u001b[0m\u001b[0mnode\u001b[0m\u001b[0;34m[\u001b[0m\u001b[0mn\u001b[0m\u001b[0;34m]\u001b[0m \u001b[0;34m=\u001b[0m \u001b[0mattr_dict\u001b[0m\u001b[0;34m\u001b[0m\u001b[0m\n\u001b[1;32m    462\u001b[0m         \u001b[0;32melse\u001b[0m\u001b[0;34m:\u001b[0m  \u001b[0;31m# update attr even if node already exists\u001b[0m\u001b[0;34m\u001b[0m\u001b[0m\n\u001b[0;32m--> 463\u001b[0;31m             \u001b[0mself\u001b[0m\u001b[0;34m.\u001b[0m\u001b[0mnode\u001b[0m\u001b[0;34m[\u001b[0m\u001b[0mn\u001b[0m\u001b[0;34m]\u001b[0m\u001b[0;34m.\u001b[0m\u001b[0mupdate\u001b[0m\u001b[0;34m(\u001b[0m\u001b[0mattr_dict\u001b[0m\u001b[0;34m)\u001b[0m\u001b[0;34m\u001b[0m\u001b[0m\n\u001b[0m\u001b[1;32m    464\u001b[0m \u001b[0;34m\u001b[0m\u001b[0m\n\u001b[1;32m    465\u001b[0m     \u001b[0;32mdef\u001b[0m \u001b[0madd_nodes_from\u001b[0m\u001b[0;34m(\u001b[0m\u001b[0mself\u001b[0m\u001b[0;34m,\u001b[0m \u001b[0mnodes\u001b[0m\u001b[0;34m,\u001b[0m \u001b[0;34m**\u001b[0m\u001b[0mattr\u001b[0m\u001b[0;34m)\u001b[0m\u001b[0;34m:\u001b[0m\u001b[0;34m\u001b[0m\u001b[0m\n",
      "\u001b[0;31mAttributeError\u001b[0m: 'tuple' object has no attribute 'update'"
     ]
    },
    {
     "data": {
      "image/png": "[encoded data removed]",
      "text/plain": [
       "<matplotlib.figure.Figure at 0x115d611d0>"
      ]
     },
     "metadata": {},
     "output_type": "display_data"
    }
   ],
   "source": [
    "print dt.datetime.now()\n",
    "\n",
    "#Instantiate Figure\n",
    "figsize(10,10)\n",
    "\n",
    "#Draw Graph of Actual Nodes and Roads\n",
    "for e in ntw.edges:\n",
    "    g.add_edge(*e)\n",
    "nx.draw(g, ntw.node_coords, node_size=5, alpha=0.25, edge_color='r', width=2)\n",
    "\n",
    "#Draw only unique edges in graph\n",
    "for e in ntw.graphedges:\n",
    "    g1.add_edge(*e)\n",
    "    # highlights cases where start and end node are the same\n",
    "    if e[0]==e[1]:\n",
    "        g1.add_node(e[0])\n",
    "for node_id in g1.node:\n",
    "    g1.node[node_id] = ntw.node_coords[node_id]\n",
    "nx.draw(g1, ntw.node_coords, node_size=20, alpha=0.5)\n",
    "\n",
    "# Draw Graph of Random Client Points\n",
    "nx.draw(GRAPH_client, points_client, \n",
    "    node_size=75, alpha=1, node_color='b')\n",
    "\n",
    "# Draw Graph of Random Service Points\n",
    "nx.draw(GRAPH_service, points_service, \n",
    "    node_size=100, alpha=1, node_color='c')\n",
    "\n",
    "# Legend (Ordered Dictionary) from collections\n",
    "LEGEND = OrderedDict()\n",
    "LEGEND['Network Nodes']=g\n",
    "LEGEND['Roads']=g\n",
    "LEGEND['Graph Vertices']=g1\n",
    "LEGEND['Graph Edges']=g1\n",
    "LEGEND['Client Nodes']=GRAPH_client\n",
    "LEGEND['Service Nodes']=GRAPH_service\n",
    "legend(LEGEND, \n",
    "       loc='lower right', \n",
    "       fancybox=True, \n",
    "       framealpha=0.5,\n",
    "       scatterpoints=1)\n",
    "\n",
    "# Title\n",
    "title('Waverly Hills\\n Tallahassee, Florida', family='Times New Roman', \n",
    "      size=40, color='k', backgroundcolor='w', weight='bold')\n",
    "\n",
    "# North Arrow and 'N' --> Must be changed for different spatial resolutions, etc.\n",
    "arrow(-84.281, 30.507, 0.0, 0.01, width=.0003, head_width=0.0012, \n",
    "          head_length=0.002, fc='k', ec='k',alpha=0.75,)\n",
    "annotate('N', xy=(-84.2815, 30.52), fontstyle='italic', fontsize='xx-large',\n",
    "            fontweight='heavy', alpha=0.75)"
   ]
  },
  {
   "cell_type": "markdown",
   "metadata": {},
   "source": [
    "### 2.1.9 &nbsp;&nbsp;&nbsp;&nbsp;<u>Create weights at nodes and sum</u>"
   ]
  },
  {
   "cell_type": "markdown",
   "metadata": {},
   "source": [
    "In order to solve the population weighted problem in this demonstration, the <i>p</i>-median problem, I will `Numpy` to generate a list of 100 random integers [5-50] to represent population at each client node. "
   ]
  },
  {
   "cell_type": "code",
   "execution_count": 35,
   "metadata": {
    "collapsed": false
   },
   "outputs": [],
   "source": [
    "# Client Weights for demand\n",
    "Ai = np.random.randint(5, 50, len(rand_coords_client))\n",
    "Ai = Ai.reshape(len(Ai),1)\n",
    "\n",
    "# Sum of Weights (Total Demand) \n",
    "AiSum = np.sum(Ai)"
   ]
  },
  {
   "cell_type": "markdown",
   "metadata": {},
   "source": [
    "### 2.1.10 &nbsp;&nbsp;&nbsp;&nbsp;<u>Instantiate client and service shapefiles</u>"
   ]
  },
  {
   "cell_type": "markdown",
   "metadata": {},
   "source": [
    "Using the python package `shapefile`, I instantiate `.shp` files of the client and service location data that was created above."
   ]
  },
  {
   "cell_type": "code",
   "execution_count": 36,
   "metadata": {
    "collapsed": false
   },
   "outputs": [],
   "source": [
    "# Client Shapefile\n",
    "client = shp.Writer(shp.POINT)\n",
    "# Add Random Points\n",
    "for i,j in rand_coords_client:\n",
    "    client.point(i,j)\n",
    "# Add Fields\n",
    "client.field('client_ID')\n",
    "client.field('Weight')\n",
    "client.field('LAT')\n",
    "client.field('LON')\n",
    "counter = 0\n",
    "for i in range(len(rand_coords_client)):\n",
    "    counter = counter + 1\n",
    "    client.record('client_' + str(counter), Ai[i], lat_client[i], lon_client[i])\n",
    "# Save Shapefile    \n",
    "\n",
    "'''new path'''\n",
    "\n",
    "client.save('/Users/jgaboardi/Dropbox/NARSC/NARSC_Portland_2015/Discrete_Location/shapefiles/RandomPoints_CLIENT')\n",
    "\n",
    "#Service Shapefile\n",
    "service = shp.Writer(shp.POINT)\n",
    "# Add Random Points\n",
    "for i,j in rand_coords_service:\n",
    "    service.point(i,j)\n",
    "# Add Fields\n",
    "service.field('y_ID')\n",
    "service.field('x_ID')\n",
    "service.field('LAT')\n",
    "service.field('LON')\n",
    "counter = 0\n",
    "for i in range(len(rand_coords_service)):\n",
    "    counter = counter + 1\n",
    "    service.record('y' + str(counter), 'x' + str(counter), lat_service[i], lon_service[i])\n",
    "# Save Shapefile    \n",
    "service.save('/Users/jgaboardi/Dropbox/NARSC/NARSC_Portland_2015/Discrete_Location/shapefiles/RandomPoints_SERVICE')"
   ]
  },
  {
   "cell_type": "code",
   "execution_count": 38,
   "metadata": {
    "collapsed": false
   },
   "outputs": [],
   "source": [
    "#CLIENT = \n",
    "SERVICE = gpd.read_file('/Users/jgaboardi/Dropbox/NARSC/NARSC_Portland_2015/Discrete_Location/shapefiles/RandomPoints_SERVICE.shp')"
   ]
  },
  {
   "cell_type": "code",
   "execution_count": 43,
   "metadata": {
    "collapsed": false
   },
   "outputs": [
    {
     "name": "stdout",
     "output_type": "stream",
     "text": [
      "               LAT            LON  \\\n",
      "0   -84.2669057793  30.5062788256   \n",
      "1    -84.271222492  30.5059168393   \n",
      "2   -84.2577492136  30.4613104219   \n",
      "3   -84.2702714778  30.4603788701   \n",
      "4   -84.2498207074  30.4899871189   \n",
      "5   -84.2771447168  30.4674037923   \n",
      "6   -84.2720844301  30.4604074659   \n",
      "7   -84.2649316461  30.5011689574   \n",
      "8   -84.2583305042   30.466486532   \n",
      "9   -84.2604811013  30.4647312036   \n",
      "10  -84.2804860063  30.4975183001   \n",
      "11  -84.2543847085  30.4552534578   \n",
      "12  -84.2748541051  30.5054951193   \n",
      "13  -84.2661800065  30.4823343591   \n",
      "14  -84.2764350689  30.4640137755   \n",
      "15   -84.279377795  30.4510279797   \n",
      "16  -84.2531702536  30.4870685876   \n",
      "17   -84.253339004  30.4894613455   \n",
      "18  -84.2563824645  30.4836148071   \n",
      "19   -84.255071819  30.4821769173   \n",
      "20  -84.2597055933  30.4880072303   \n",
      "21  -84.2719813105  30.4891990943   \n",
      "22  -84.2735893719  30.5066355458   \n",
      "23  -84.2707536866  30.4574282759   \n",
      "24   -84.280162641  30.4668214695   \n",
      "25  -84.2750391409  30.4922700921   \n",
      "26  -84.2635885851  30.4644131122   \n",
      "27  -84.2641311227  30.5047500597   \n",
      "28  -84.2579958085  30.4744468573   \n",
      "29  -84.2532298155  30.4814963676   \n",
      "30  -84.2658674196  30.5072705262   \n",
      "31  -84.2577323353  30.4645159703   \n",
      "32  -84.2724401338  30.4674283504   \n",
      "33  -84.2531645156  30.4920240581   \n",
      "34  -84.2746622664   30.505697357   \n",
      "35  -84.2510944925   30.492210374   \n",
      "36  -84.2765372625   30.496704236   \n",
      "37  -84.2741534354  30.4967828542   \n",
      "38  -84.2707175084  30.4702418333   \n",
      "39  -84.2561700083  30.4813366527   \n",
      "40  -84.2505386878   30.474650858   \n",
      "41  -84.2685049052  30.4796294117   \n",
      "42  -84.2594888546  30.4994188986   \n",
      "43  -84.2750651011  30.4596644232   \n",
      "44  -84.2544537543  30.4950082104   \n",
      "45  -84.2540504116  30.4620866918   \n",
      "46    -84.27113727  30.4722655271   \n",
      "47  -84.2665050143  30.4560255945   \n",
      "48  -84.2670067204  30.4572136042   \n",
      "49  -84.2520243364  30.4539795438   \n",
      "\n",
      "                                        geometry x_ID y_ID  \n",
      "0   POINT (-84.26690577928161 30.50627882560765)   x1   y1  \n",
      "1    POINT (-84.27122249202743 30.5059168393109)   x2   y2  \n",
      "2   POINT (-84.25774921364874 30.46131042185841)   x3   y3  \n",
      "3   POINT (-84.27027147782215 30.46037887014508)   x4   y4  \n",
      "4   POINT (-84.24982070741211 30.48998711889105)   x5   y5  \n",
      "5    POINT (-84.27714471675888 30.4674037922687)   x6   y6  \n",
      "6   POINT (-84.27208443008128 30.46040746591396)   x7   y7  \n",
      "7   POINT (-84.26493164609833 30.50116895742579)   x8   y8  \n",
      "8   POINT (-84.25833050423397 30.46648653198796)   x9   y9  \n",
      "9   POINT (-84.26048110133593 30.46473120359934)  x10  y10  \n",
      "10  POINT (-84.28048600632027 30.49751830011846)  x11  y11  \n",
      "11  POINT (-84.25438470847601 30.45525345776478)  x12  y12  \n",
      "12  POINT (-84.27485410508358 30.50549511928872)  x13  y13  \n",
      "13  POINT (-84.26618000652607 30.48233435907751)  x14  y14  \n",
      "14   POINT (-84.2764350689373 30.46401377554269)  x15  y15  \n",
      "15  POINT (-84.27937779501625 30.45102797966404)  x16  y16  \n",
      "16    POINT (-84.25317025359072 30.487068587637)  x17  y17  \n",
      "17   POINT (-84.2533390040241 30.48946134554976)  x18  y18  \n",
      "18  POINT (-84.25638246451554 30.48361480708893)  x19  y19  \n",
      "19    POINT (-84.25507181900709 30.482176917341)  x20  y20  \n",
      "20   POINT (-84.25970559329902 30.4880072302678)  x21  y21  \n",
      "21  POINT (-84.27198131052062 30.48919909433526)  x22  y22  \n",
      "22  POINT (-84.27358937194278 30.50663554577479)  x23  y23  \n",
      "23  POINT (-84.27075368659045 30.45742827592518)  x24  y24  \n",
      "24   POINT (-84.2801626409917 30.46682146953513)  x25  y25  \n",
      "25  POINT (-84.27503914088123 30.49227009210011)  x26  y26  \n",
      "26  POINT (-84.26358858510704 30.46441311222952)  x27  y27  \n",
      "27  POINT (-84.26413112274768 30.50475005967207)  x28  y28  \n",
      "28  POINT (-84.25799580847776 30.47444685726776)  x29  y29  \n",
      "29  POINT (-84.25322981551919 30.48149636756914)  x30  y30  \n",
      "30   POINT (-84.26586741957448 30.5072705261679)  x31  y31  \n",
      "31  POINT (-84.25773233531422 30.46451597032103)  x32  y32  \n",
      "32  POINT (-84.27244013381568 30.46742835041624)  x33  y33  \n",
      "33    POINT (-84.2531645156468 30.4920240581384)  x34  y34  \n",
      "34  POINT (-84.27466226638619 30.50569735703199)  x35  y35  \n",
      "35   POINT (-84.25109449245484 30.4922103740481)  x36  y36  \n",
      "36  POINT (-84.27653726250168 30.49670423599324)  x37  y37  \n",
      "37  POINT (-84.27415343539842 30.49678285421811)  x38  y38  \n",
      "38   POINT (-84.2707175084208 30.47024183326672)  x39  y39  \n",
      "39  POINT (-84.25617000831045 30.48133665273678)  x40  y40  \n",
      "40    POINT (-84.25053868775102 30.474650858013)  x41  y41  \n",
      "41  POINT (-84.26850490522091 30.47962941172658)  x42  y42  \n",
      "42  POINT (-84.25948885464322 30.49941889855045)  x43  y43  \n",
      "43  POINT (-84.27506510111776 30.45966442319137)  x44  y44  \n",
      "44  POINT (-84.25445375434924 30.49500821038368)  x45  y45  \n",
      "45  POINT (-84.25405041156453 30.46208669178521)  x46  y46  \n",
      "46  POINT (-84.27113727000426 30.47226552711101)  x47  y47  \n",
      "47  POINT (-84.26650501427105 30.45602559454549)  x48  y48  \n",
      "48  POINT (-84.26700672044065 30.45721360422521)  x49  y49  \n",
      "49  POINT (-84.25202433637426 30.45397954384159)  x50  y50  \n",
      "                  FULLNAME       LINEARID  MTFCC RTTYP  \\\n",
      "0                   N Ride   110158908901  S1400     M   \n",
      "1                   N Ride   110158908902  S1400     M   \n",
      "2                   S Ride   110158908913  S1400     M   \n",
      "3                Walton Dr   110158976711  S1400     M   \n",
      "4              Fontaine Dr   110159019423  S1400     M   \n",
      "5               Lothian Dr   110158986521  S1400     M   \n",
      "6                 Penny Ln   110158949236  S1400     M   \n",
      "7           Asbury Hill Dr   110159059419  S1400     M   \n",
      "8                  Kirk Ln   110158908138  S1400     M   \n",
      "9              Aberdeen Dr   110159000869  S1400     M   \n",
      "10           St Leonard Dr   110159058470  S1400     M   \n",
      "11             Wisteria Dr   110159030663  S1400     M   \n",
      "12              Durwood St   110158983464  S1400     M   \n",
      "13          Leewood Hollow   110159090556  S1400     M   \n",
      "14                Cabot Dr   110158918096  S1400     M   \n",
      "15           Millstream Rd   110159057273  S1400     M   \n",
      "16        Middlebrooks Cir  1102656226017  S1400     M   \n",
      "17             Gardenia Dr   110159021056  S1400     M   \n",
      "18           Vinnedge Ride   110159089457  S1400     M   \n",
      "19             Piedmont Dr   110159029298  S1400     M   \n",
      "20         Martin Hurst Rd   110159065813  S1400     M   \n",
      "21             Woodside Dr   110159030734  S1400     M   \n",
      "22              Ivanhoe Rd   110158985313  S1400     M   \n",
      "23         Middlebrooks Ct  1102656226094  S1400     M   \n",
      "24           Kenilworth Rd   110159056711  S1400     M   \n",
      "25               Parker Dr   110158974590  S1400     M   \n",
      "26            Covington Dr   110159031702  S1400     M   \n",
      "27         Walter Scott St   110159085841  S1400     M   \n",
      "28  Live Oak Plantation Rd   110159102033  S1400     M   \n",
      "29               Adwood Dr   110158950252  S1400     M   \n",
      "..                     ...            ...    ...   ...   \n",
      "34           Millstream Rd   110159057272  S1400     M   \n",
      "35             Sterling Dr   110159030025  S1400     M   \n",
      "36            Twin Oaks Ln   110159039145  S1400     M   \n",
      "37      Live Oak Forest Dr   110159095253  S1400     M   \n",
      "38             Lasswade Dr   110159027974  S1400     M   \n",
      "39              Rebecca Dr   110158990246  S1400     M   \n",
      "40          Abbotsford Way   110159039555  S1400     M   \n",
      "41              US Hwy 319   110158899857  S1200     U   \n",
      "42           Brandemere Dr   110159039894  S1400     M   \n",
      "43              Leewood Dr   110158986049  S1400     M   \n",
      "44           Millstream Rd   110159057274  S1400     M   \n",
      "45              Waverly Rd   110158998736  S1400     M   \n",
      "46               Mercer Dr   110158973688  S1400     M   \n",
      "47             Shalimar Dr   110159029839  S1400     M   \n",
      "48                Lotus Dr   110158941074  S1400     M   \n",
      "49              Ruadh Ride   110159057967  S1400     M   \n",
      "50         Middlebrooks Ct   110159065886  S1400     M   \n",
      "51             Windsor Way   110159000409  S1400     M   \n",
      "52                 Lisa Ct   110158908282  S1400     M   \n",
      "53                Lowry Dr   110158941861  S1400     M   \n",
      "54             Altamont Dr   110159001162  S1400     M   \n",
      "55                Avon Cir   110158907025  S1400     M   \n",
      "56            Sandhurst Dr   110159038640  S1400     M   \n",
      "57             Carriage Rd   110159008307  S1400     M   \n",
      "58               Renae Way   110158949482  S1400     M   \n",
      "59            Brookmont Dr   110159031270  S1400     M   \n",
      "60               Mimosa Dr   110158973788  S1400     M   \n",
      "61           Coldstream Dr   110159060062  S1400     M   \n",
      "62              Charles Ct   110158982480  S1400     M   \n",
      "63           Middlewood Dr   110159057249  S1400     M   \n",
      "\n",
      "                                             geometry  \n",
      "0   LINESTRING (-84.277247 30.474971, -84.27635399...  \n",
      "1   LINESTRING (-84.27118899999999 30.474302999999...  \n",
      "2   LINESTRING (-84.27723 30.47263399999999, -84.2...  \n",
      "3   LINESTRING (-84.26010199999999 30.493475, -84....  \n",
      "4   LINESTRING (-84.25658199999998 30.495401, -84....  \n",
      "5   LINESTRING (-84.27560199999999 30.48486, -84.2...  \n",
      "6   LINESTRING (-84.25773699999999 30.484, -84.257...  \n",
      "7   LINESTRING (-84.25991999999999 30.479816, -84....  \n",
      "8   LINESTRING (-84.27091899999999 30.480681, -84....  \n",
      "9   LINESTRING (-84.270228 30.478767, -84.270224 3...  \n",
      "10  LINESTRING (-84.26717699999999 30.478772, -84....  \n",
      "11  LINESTRING (-84.264546 30.476643, -84.264421 3...  \n",
      "12  LINESTRING (-84.265852 30.472345, -84.266003 3...  \n",
      "13  LINESTRING (-84.25983099999999 30.489789, -84....  \n",
      "14  LINESTRING (-84.25652699999999 30.489761999999...  \n",
      "15  LINESTRING (-84.25873899999999 30.498577, -84....  \n",
      "16  LINESTRING (-84.27531499999999 30.488385, -84....  \n",
      "17  LINESTRING (-84.268316 30.476152, -84.268137 3...  \n",
      "18  LINESTRING (-84.277225 30.473875, -84.276219 3...  \n",
      "19  LINESTRING (-84.27732299999998 30.487494999999...  \n",
      "20  LINESTRING (-84.25623199999998 30.497548999999...  \n",
      "21  LINESTRING (-84.27279799999999 30.47882, -84.2...  \n",
      "22  LINESTRING (-84.27157199999999 30.484883, -84....  \n",
      "23  LINESTRING (-84.27531499999999 30.488385, -84....  \n",
      "24  LINESTRING (-84.27279799999999 30.47882, -84.2...  \n",
      "25  LINESTRING (-84.26728399999999 30.474751, -84....  \n",
      "26  LINESTRING (-84.25987099999999 30.490962, -84....  \n",
      "27  LINESTRING (-84.26591499999999 30.478768, -84....  \n",
      "28  LINESTRING (-84.27727799999998 30.48936, -84.2...  \n",
      "29  LINESTRING (-84.25983099999999 30.489789, -84....  \n",
      "..                                                ...  \n",
      "34  LINESTRING (-84.25873899999999 30.498577, -84....  \n",
      "35  LINESTRING (-84.26882599999999 30.47877, -84.2...  \n",
      "36  LINESTRING (-84.270253 30.489913, -84.27002399...  \n",
      "37  LINESTRING (-84.26093299999999 30.494634, -84....  \n",
      "38  LINESTRING (-84.270223 30.484886, -84.27023699...  \n",
      "39  LINESTRING (-84.27154899999999 30.478766, -84....  \n",
      "40  LINESTRING (-84.275503 30.481335, -84.27547699...  \n",
      "41  LINESTRING (-84.280694 30.450133, -84.28066099...  \n",
      "42  LINESTRING (-84.261966 30.48076, -84.26168 30....  \n",
      "43  LINESTRING (-84.25983099999999 30.489789, -84....  \n",
      "44  LINESTRING (-84.25873899999999 30.498577, -84....  \n",
      "45  LINESTRING (-84.27728799999998 30.481359, -84....  \n",
      "46  LINESTRING (-84.264865 30.483137, -84.264712 3...  \n",
      "47  LINESTRING (-84.267605 30.477752, -84.267605 3...  \n",
      "48  LINESTRING (-84.268316 30.476152, -84.268562 3...  \n",
      "49  LINESTRING (-84.271182 30.472561, -84.271186 3...  \n",
      "50  LINESTRING (-84.26850899999999 30.493183, -84....  \n",
      "51  LINESTRING (-84.272744 30.484903, -84.272786 3...  \n",
      "52  LINESTRING (-84.257966 30.490958, -84.257965 3...  \n",
      "53  LINESTRING (-84.256687 30.494016, -84.256681 3...  \n",
      "54  LINESTRING (-84.26234699999999 30.486064, -84....  \n",
      "55  LINESTRING (-84.261467 30.492479, -84.26131199...  \n",
      "56  LINESTRING (-84.26118799999999 30.488281, -84....  \n",
      "57  LINESTRING (-84.26014499999999 30.487223, -84....  \n",
      "58  LINESTRING (-84.25805199999999 30.483336, -84....  \n",
      "59  LINESTRING (-84.26234699999999 30.486064, -84....  \n",
      "60  LINESTRING (-84.268417 30.477694, -84.26828999...  \n",
      "61  LINESTRING (-84.277287 30.47982199999999, -84....  \n",
      "62  LINESTRING (-84.269913 30.474021, -84.26988699...  \n",
      "63  LINESTRING (-84.26978699999999 30.491473, -84....  \n",
      "\n",
      "[64 rows x 5 columns]\n"
     ]
    },
    {
     "data": {
      "text/plain": [
       "<matplotlib.axes._subplots.AxesSubplot at 0x1172d0290>"
      ]
     },
     "execution_count": 43,
     "metadata": {},
     "output_type": "execute_result"
    },
    {
     "data": {
      "image/png": "[encoded data removed]",
      "text/plain": [
       "<matplotlib.figure.Figure at 0x103aa76d0>"
      ]
     },
     "metadata": {},
     "output_type": "display_data"
    }
   ],
   "source": [
    "print SERVICE\n",
    "Waverly.append(SERVICE)\n",
    "print Waverly\n",
    "Waverly.plot()"
   ]
  },
  {
   "cell_type": "code",
   "execution_count": null,
   "metadata": {
    "collapsed": true
   },
   "outputs": [],
   "source": []
  },
  {
   "cell_type": "code",
   "execution_count": null,
   "metadata": {
    "collapsed": true
   },
   "outputs": [],
   "source": []
  },
  {
   "cell_type": "markdown",
   "metadata": {},
   "source": [
    "### 2.1.11 &nbsp;&nbsp;&nbsp;&nbsp;<u>Snap Observations to NTW</u>"
   ]
  },
  {
   "cell_type": "markdown",
   "metadata": {},
   "source": [
    "Next, I snap the client and service observations to the network with the `ntw.snapobservations` method within the instantiated network object. This allows for the creation of a distance matrix later."
   ]
  },
  {
   "cell_type": "code",
   "execution_count": null,
   "metadata": {
    "collapsed": false
   },
   "outputs": [],
   "source": [
    "t1 = time.time()\n",
    "Snap_C = ntw.snapobservations('shapefiles/RandomPoints_CLIENT.shp', \n",
    "                     'Rand_Points_CLIENT', attribute=True)\n",
    "Snap_S = ntw.snapobservations('shapefiles/RandomPoints_SERVICE.shp', \n",
    "                     'Rand_Points_SERVICE', attribute=True)\n",
    "print round(time.time()-t1, 4), 'seconds'"
   ]
  },
  {
   "cell_type": "markdown",
   "metadata": {},
   "source": [
    "### 2.1.12 &nbsp;&nbsp;&nbsp;&nbsp;<u>Draw NTW, snapped coords, & random coords</u>"
   ]
  },
  {
   "cell_type": "markdown",
   "metadata": {},
   "source": [
    "When the graph is redrawn we can the client and service location in their original locations represented by the smaller points, and the network-snapped location represented with larger points."
   ]
  },
  {
   "cell_type": "code",
   "execution_count": null,
   "metadata": {
    "collapsed": false
   },
   "outputs": [],
   "source": [
    "# Instantiate Figure\n",
    "figsize(10,10)\n",
    "# Draw Graph of Roads\n",
    "for e in ntw.edges:\n",
    "    g.add_edge(*e)\n",
    "nx.draw(g, ntw.node_coords, node_size=5, alpha=0.25, edge_color='r', width=2)\n",
    "# Draw Graph of Snapped Client Nodes\n",
    "g_client = nx.Graph()\n",
    "for p,coords in ntw.pointpatterns['Rand_Points_CLIENT'].snapped_coordinates.iteritems():\n",
    "    g_client.add_node(p)\n",
    "    g_client.node[p] = coords\n",
    "nx.draw(g_client, ntw.pointpatterns['Rand_Points_CLIENT'].snapped_coordinates, \n",
    "        node_size=100, alpha=1, node_color='b')\n",
    "# Draw Graph of Snapped Service Nodes\n",
    "g_service = nx.Graph()\n",
    "for p,coords in ntw.pointpatterns['Rand_Points_SERVICE'].snapped_coordinates.iteritems():\n",
    "    g_service.add_node(p)\n",
    "    g_service.node[p] = coords\n",
    "nx.draw(g_service, ntw.pointpatterns['Rand_Points_SERVICE'].snapped_coordinates, \n",
    "        node_size=100, alpha=1, node_color='c')\n",
    "# Draw Graph of Random Client Points\n",
    "nx.draw(GRAPH_client, points_client, \n",
    "    node_size=20, alpha=1, node_color='y')\n",
    "# Draw Graph of Random Client Points\n",
    "nx.draw(GRAPH_service, points_service, \n",
    "    node_size=20, alpha=1, node_color='w')\n",
    "\n",
    "# Legend (Ordered Dictionary)\n",
    "LEGEND = OrderedDict()\n",
    "LEGEND['Network Nodes']=g\n",
    "LEGEND['Roads']=g\n",
    "LEGEND['Snapped Client']=g_client\n",
    "LEGEND['Snapped Service']=g_service\n",
    "LEGEND['Client Nodes']=GRAPH_client\n",
    "LEGEND['Service Nodes']=GRAPH_service\n",
    "legend(LEGEND, loc='lower right', fancybox=True, framealpha=0.5, scatterpoints=1)\n",
    "# Title\n",
    "title('Waverly Hills\\n Tallahassee, Florida', family='Times New Roman', \n",
    "      size=40, color='k', backgroundcolor='w', weight='bold')\n",
    "# North Arrow and 'N' --> Must be changed for different spatial resolutions, etc.\n",
    "arrow(-84.281, 30.507, 0.0, 0.01, width=.0003, head_width=0.0012, \n",
    "          head_length=0.002, fc='k', ec='k',alpha=0.75,)\n",
    "annotate('N', xy=(-84.2815, 30.52), fontstyle='italic', fontsize='xx-large',\n",
    "            fontweight='heavy', alpha=0.75)"
   ]
  },
  {
   "cell_type": "markdown",
   "metadata": {},
   "source": [
    "### <b>2.1.13 &nbsp;&nbsp;&nbsp;&nbsp;<u>Create distance matrices</u>"
   ]
  },
  {
   "cell_type": "markdown",
   "metadata": {},
   "source": [
    "Finally, I create a client to service distance matrix with `ntw.allneighbordistances()` from the instantiated network object of Waverly Hills [`Waverly.shp`].  The matrix is 100x50 and the values are converted from decimal degrees to miles. \n",
    "\n",
    "A current limitation of this is run time which is hindered by the geographic size of the network. When tested with much larger client and service point sets the `Dijkstra` algorithm ran in similar time.  This demonstrates the limitation of calculating a shortest-path with the actual road network.  As an improvement,\n",
    "\n",
    "\n",
    "we need to refactor the `Dijkstra` and also calculate it on the simplified graph to see decreases in run time. The run time will decreases because there are far fewer nodes and edges in the simplified graph."
   ]
  },
  {
   "cell_type": "code",
   "execution_count": null,
   "metadata": {
    "collapsed": false
   },
   "outputs": [],
   "source": [
    "t1 = time.time()\n",
    "\n",
    "# Define Client to Service Matrix Function\n",
    "def c_s_matrix():\n",
    "    global All_Dist_MILES\n",
    "    All_Neigh_Dist = ntw.allneighbordistances(sourcepattern=ntw.pointpatterns['Rand_Points_CLIENT'],\n",
    "                                             destpattern=ntw.pointpatterns['Rand_Points_SERVICE'])\n",
    "    All_Dist_MILES = All_Neigh_Dist * float(10000/90) * 0.6214 \n",
    "\n",
    "# Call Client to Service Matrix Function\n",
    "c_s_matrix()    \n",
    "\n",
    "seconds = round(time.time()-t1, 4)    \n",
    "print seconds, 'seconds'\n",
    "print 'Client to Service Matrix Shape --> ', All_Dist_MILES.shape"
   ]
  },
  {
   "cell_type": "markdown",
   "metadata": {},
   "source": [
    "------------------------"
   ]
  },
  {
   "cell_type": "markdown",
   "metadata": {},
   "source": [
    "## 2.2 &nbsp;&nbsp;&nbsp;&nbsp;<u>Mathematical Optimization</u>"
   ]
  },
  {
   "cell_type": "markdown",
   "metadata": {},
   "source": [
    "### 2.2.1a &nbsp;&nbsp;&nbsp;&nbsp;<u>Set Cover test [<i>S</i> = 1.25 miles]</u>"
   ]
  },
  {
   "cell_type": "markdown",
   "metadata": {},
   "source": [
    "The set cover location problem, also known as the SCLP, is a fundamental facility location problem (Beasley 1987; Daskin 1995; Beasley and Chu 1996).  The objective of the SCLP is to minimize the number of service facilities to site while achieving complete (100%) coverage of client nodes."
   ]
  },
  {
   "cell_type": "markdown",
   "metadata": {},
   "source": [
    "## <u>Minimize</u>\n",
    "\n",
    "# &nbsp;&nbsp;&nbsp;&nbsp;&nbsp;&nbsp;&nbsp;&nbsp; $\\displaystyle\\sum_{j=1}^n d_j x_j$\n",
    "\n",
    "## <u>Subject to</u>\n",
    "\n",
    "# &nbsp;&nbsp;&nbsp;&nbsp;&nbsp;&nbsp;&nbsp;&nbsp; $\\displaystyle\\sum_{j=1}^n a_{ij} x_j \\geq 1,$ &nbsp;&nbsp;&nbsp;&nbsp;&nbsp;&nbsp;&nbsp;&nbsp;&nbsp;&nbsp; $i = 1 \\in n$\n",
    "\n",
    "# &nbsp;&nbsp;&nbsp;&nbsp;&nbsp;&nbsp;&nbsp;&nbsp; $\\displaystyle x_j \\in (0,1)$  &nbsp;&nbsp;&nbsp;&nbsp;&nbsp;&nbsp;&nbsp;&nbsp;&nbsp;&nbsp;&nbsp;&nbsp;&nbsp;&nbsp; $j = 1 \\in  m$\n",
    "\n",
    "\n",
    "## <u>where</u>\n",
    "## &nbsp;&nbsp;&nbsp;&nbsp;&nbsp;&nbsp;&nbsp;&nbsp;&nbsp;−\t$i$ = a specific origin\n",
    "## &nbsp;&nbsp;&nbsp;&nbsp;&nbsp;&nbsp;&nbsp;&nbsp;&nbsp;−\t$j$ = a specific destination\n",
    "## &nbsp;&nbsp;&nbsp;&nbsp;&nbsp;&nbsp;&nbsp;&nbsp;&nbsp;−\t$n$ = the set of origins\n",
    "## &nbsp;&nbsp;&nbsp;&nbsp;&nbsp;&nbsp;&nbsp;&nbsp;&nbsp;−\t$m$ = the set of destinations\n",
    "## &nbsp;&nbsp;&nbsp;&nbsp;&nbsp;&nbsp;&nbsp;&nbsp;&nbsp;−\t$x_i$ = the decision variable at each node in the matrix\n",
    "## &nbsp;&nbsp;&nbsp;&nbsp;&nbsp;&nbsp;&nbsp;&nbsp;&nbsp;−\t$a_{ij}$ = binary matrix describing the coverage of each node\n",
    "\n",
    "## &nbsp;&nbsp;&nbsp;&nbsp;&nbsp;&nbsp;&nbsp;&nbsp;&nbsp; <u>where</u>\n",
    "\n",
    "## &nbsp;&nbsp;&nbsp;&nbsp;&nbsp;&nbsp;&nbsp;&nbsp;&nbsp;&nbsp;&nbsp;&nbsp;&nbsp;&nbsp;&nbsp;&nbsp;&nbsp;&nbsp;&nbsp;&nbsp;&nbsp;− $a_{ij}$ = $1 \\forall i, j \\ni d_{ij} \\geq S$ ($S$ is user defined) \n",
    "\n",
    "## &nbsp;&nbsp;&nbsp;&nbsp;&nbsp;&nbsp;&nbsp;&nbsp;&nbsp;&nbsp;&nbsp;&nbsp;&nbsp;&nbsp;&nbsp;&nbsp;&nbsp;&nbsp;&nbsp;&nbsp;&nbsp;− $a_{ij} $ = $0$ otherwise\n",
    "\n",
    "## &nbsp;&nbsp;&nbsp;&nbsp;&nbsp;&nbsp;&nbsp;&nbsp;&nbsp;−\t$d_{ij}$ = distance from $i$th origin to $j$th destination\n",
    "\n",
    "-----\n",
    "\n",
    "- Adapted from:\n",
    "#### Daskin, M. S. 1995. Network and Discrete Location: Models, Algorithms, and Applications. Hoboken, NJ, USA: John Wiley & Sons, Inc."
   ]
  },
  {
   "cell_type": "code",
   "execution_count": null,
   "metadata": {
    "collapsed": false
   },
   "outputs": [],
   "source": [
    "# Define the Set Cover function\n",
    "def gbpSCLP():    \n",
    "    \n",
    "    t1 = time.time()\n",
    "    \n",
    "    # Define Global Records Variable\n",
    "    global NEW_Records_SCLP\n",
    "    \n",
    "    #     1. Read In Data\n",
    "    # Cost Matrix\n",
    "    Cij = All_Dist_MILES\n",
    "    # Create Aij: Determine Aij (nodes within S)\n",
    "    # S --> 1 = served; 0 = unserved\n",
    "    S = 1.25\n",
    "    # Aij\n",
    "    Aij = []\n",
    "    for i in np.nditer(Cij):\n",
    "        if i <= S:\n",
    "            outtext = 1\n",
    "        else:\n",
    "            outtext = 0\n",
    "        Aij.append(outtext)\n",
    "    rows, cols = Cij.shape\n",
    "    \n",
    "    # Transform Aij into an array and resphape to match with Cij\n",
    "    Aij = np.array(Aij)\n",
    "    Aij = Aij.reshape(len(Cij),len(Cij[0]))\n",
    "    \n",
    "    \n",
    "    client_nodes = range(len(Cij))\n",
    "    service_nodes = range(len(Cij[0]))\n",
    "\n",
    "    #     2. Create Model, Set MIP Focus, Add Variables, & Update Model\n",
    "    mSCLP = gbp.Model(\" -- SCLP -- \")\n",
    "    \n",
    "    # Set MIP Focus to 2 for optimality\n",
    "    gbp.setParam('MIPFocus', 2)\n",
    "\n",
    "    # Add Service Decision Variables (j)\n",
    "    serv_var = []\n",
    "    for dest in service_nodes:\n",
    "        serv_var.append(mSCLP.addVar(vtype=gbp.GRB.BINARY,\n",
    "                                    ub = 1,\n",
    "                                    name='x'+str(dest+1)))\n",
    "    # Update Model Variables\n",
    "    mSCLP.update()       \n",
    "\n",
    "    #     3. Set Objective Function\n",
    "    mSCLP.setObjective(gbp.quicksum(serv_var[dest] \n",
    "                                for dest in service_nodes), \n",
    "                                gbp.GRB.MINIMIZE)\n",
    "\n",
    "    #     4. Add Constraints \n",
    "    # Add Coverage Constraints  \n",
    "    for orig in client_nodes:\n",
    "        mSCLP.addConstr(gbp.quicksum(Aij[orig][dest]*serv_var[dest] \n",
    "                                for dest in service_nodes) >= 1)        \n",
    "\n",
    "    #     5. Optimize and Print Results\n",
    "    # Solve\n",
    "    try:\n",
    "        mSCLP.optimize()\n",
    "    except Exception as e:\n",
    "        exc_type, exc_obj, exc_tb = sys.exc_info()\n",
    "        fname = os.path.split(exc_tb.tb_frame.f_code.co_filename)[1]\n",
    "        print exc_type, fname, 'Line Number -- ',exc_tb.tb_lineno\n",
    "        print '   ################################################################'\n",
    "        print ' < ISSUE : ', e, ' >'\n",
    "        print '   ################################################################'\n",
    "    \n",
    "    # Write LP\n",
    "    mSCLP.write('/Users/jgaboardi/Dropbox/NARSC/NARSC_Portland_2015/Discrete_Location/LP_Files/WaverlySCLP.lp')\n",
    "    t2 = time.time()-t1\n",
    "    \n",
    "    # Record and Display Results\n",
    "    print '\\n*****************************************************************************************'\n",
    "    selected = []\n",
    "    dbf1 = ps.open('shapefiles/RandomPoints_SERVICE.dbf')\n",
    "    NEW_Records_SCLP = []\n",
    "    for v in mSCLP.getVars():\n",
    "        if v.x > 0:\n",
    "            var = '%s' % v.VarName\n",
    "            selected.append(v.x)\n",
    "            for i in range(dbf1.n_records):\n",
    "                if var in dbf1.read_record(i):\n",
    "                    x = dbf1.read_record(i)\n",
    "                    NEW_Records_SCLP.append(x)\n",
    "                else:\n",
    "                    pass\n",
    "            print '    |                                                ', var\n",
    "    print '    | Selected Facility Locations ------------------  ^^^^ '\n",
    "    print '    | Coverage (S) in miles ------------------------ ', S\n",
    "    print '    | Client Nodes --------------------------------- ', len(client_nodes)\n",
    "    print '    | Facilities needed 100% coverage of clients --- ', len(selected)\n",
    "    print '    | Real Time to Optimize (sec.) ----------------- ', t2\n",
    "    print '    | Date/Time ------------------------------------ ', dt.datetime.now()\n",
    "    print '*****************************************************************************************'\n",
    "    print ' -- Set Cover Location Problem -- '\n",
    "    \n",
    "# Call SCLP Function\n",
    "try:\n",
    "    gbpSCLP()\n",
    "    print '\\nJames Gaboardi, 2015'\n",
    "except Exception as e:\n",
    "    exc_type, exc_obj, exc_tb = sys.exc_info()\n",
    "    fname = os.path.split(exc_tb.tb_frame.f_code.co_filename)[1]\n",
    "    print exc_type, fname, 'Line Number -- ',exc_tb.tb_lineno\n",
    "    print '   ################################################################'\n",
    "    print ' < ISSUE : ', e, ' >'\n",
    "    print '   ################################################################'"
   ]
  },
  {
   "cell_type": "markdown",
   "metadata": {},
   "source": [
    "### 2.2.1b&nbsp;&nbsp;&nbsp;&nbsp; <u>Instantiate selected Set Cover location shapefile</u>"
   ]
  },
  {
   "cell_type": "markdown",
   "metadata": {},
   "source": [
    "Following optimization, I created a new shapefile of the selected candidate service locations."
   ]
  },
  {
   "cell_type": "code",
   "execution_count": null,
   "metadata": {
    "collapsed": false
   },
   "outputs": [],
   "source": [
    "# Define SCLP shapefile function\n",
    "def Create_SCLP():\n",
    "    try:\n",
    "        # Instantiate SCLP shapefile\n",
    "        SHP_SetCover = shp.Writer(shp.POINT)\n",
    "        # Add Points\n",
    "        for idy,idx,x,y in NEW_Records_SCLP:\n",
    "            SHP_SetCover.point(float(x), float(y))\n",
    "        # Add Fields\n",
    "        SHP_SetCover.field('y_ID')\n",
    "        SHP_SetCover.field('x_ID')\n",
    "        SHP_SetCover.field('LAT')\n",
    "        SHP_SetCover.field('LON')\n",
    "        # Add Records\n",
    "        for idy,idx,x,y in NEW_Records_SCLP:\n",
    "            SHP_SetCover.record(idy,idx,x,y)\n",
    "        # Save Shapefile    \n",
    "        SHP_SetCover.save('/Users/jgaboardi/Dropbox/NARSC/NARSC_Portland_2015/Discrete_Location/shapefiles/Selected_Locations_SetCover')\n",
    "    except Exception as e:\n",
    "        exc_type, exc_obj, exc_tb = sys.exc_info()\n",
    "        fname = os.path.split(exc_tb.tb_frame.f_code.co_filename)[1]\n",
    "        print exc_type, fname, 'Line Number -- ',exc_tb.tb_lineno\n",
    "        print '   ################################################################'\n",
    "        print ' < ISSUE : ', e, ' >'\n",
    "        print '   ################################################################'\n",
    "\n",
    "# Call SCLP shapefile function\n",
    "try:\n",
    "    Create_SCLP()\n",
    "except Exception as e:\n",
    "    exc_type, exc_obj, exc_tb = sys.exc_info()\n",
    "    fname = os.path.split(exc_tb.tb_frame.f_code.co_filename)[1]\n",
    "    print exc_type, fname, 'Line Number -- ',exc_tb.tb_lineno\n",
    "    print '   ################################################################'\n",
    "    print ' < ISSUE : ', e, ' >'\n",
    "    print '   ################################################################'"
   ]
  },
  {
   "cell_type": "markdown",
   "metadata": {},
   "source": [
    "----------------------------"
   ]
  },
  {
   "cell_type": "markdown",
   "metadata": {},
   "source": [
    "### 2.2.2a&nbsp;&nbsp;&nbsp;&nbsp;  <u><i>p</i>-Median test [<i>p</i> = 2]</u>"
   ]
  },
  {
   "cell_type": "markdown",
   "metadata": {},
   "source": [
    "The <i>p</i>-median problem (PMP), also known as the minisum problem, was first proposed by Hakimi in the 1960s and has been utilized in wide-ranging research topics such as Mathematics and Emergency Management since then (Hakimi 1964; Teitz and Bart 1968; Tansel, Francis, and Lowe 1983; Daskin 1995; Horner and Widener 2010; Kalcsics et al. 2014).  This model sites <i>p</i> facilities with an objective of minimizing the total travel cost by siting facilities nearest to the greatest amount of demand.  Weighting decision variables with population, for example, does this.  Efficiency (lowest travel cost) is the key to the PMP. \n"
   ]
  },
  {
   "cell_type": "markdown",
   "metadata": {},
   "source": [
    "## <u>Minimize</u>\n",
    "\n",
    "# &nbsp;&nbsp;&nbsp;&nbsp;&nbsp;&nbsp;&nbsp;&nbsp; $\\displaystyle\\sum_{i \\in 1}^n\\sum_{j\\in 1}^m a_i c_{ij} x_{ij}$\n",
    "\n",
    "## <u>Subject to</u>\n",
    "\n",
    "# &nbsp;&nbsp;&nbsp;&nbsp;&nbsp;&nbsp;&nbsp;&nbsp; $\\displaystyle\\sum_{j\\in m} x_{ij}  = 1 ,$&nbsp;&nbsp;&nbsp;&nbsp;&nbsp;&nbsp;&nbsp;&nbsp;  $\\forall i \\in n$\n",
    "\n",
    "# &nbsp;&nbsp;&nbsp;&nbsp;&nbsp;&nbsp;&nbsp;&nbsp; $\\displaystyle\\sum_{i \\in n} y_j = p$\n",
    "\n",
    "# &nbsp;&nbsp;&nbsp;&nbsp;&nbsp;&nbsp;&nbsp;&nbsp; $x_{ij} - y_j \\geq 0,$ &nbsp;&nbsp;&nbsp;&nbsp;&nbsp;&nbsp; $\\forall i \\in n, j \\in m$\n",
    "\n",
    "# &nbsp;&nbsp;&nbsp;&nbsp;&nbsp;&nbsp;&nbsp;&nbsp; $x_{ij}, y_j \\in (0,1)$ &nbsp;&nbsp;&nbsp;&nbsp; $\\forall i \\in n , j \\in m$\n",
    "\n",
    "## <u>where</u>\n",
    "\n",
    "## &nbsp;&nbsp;&nbsp;&nbsp;&nbsp;&nbsp;&nbsp;&nbsp;&nbsp;−\t$i$ = a specific origin\n",
    "## &nbsp;&nbsp;&nbsp;&nbsp;&nbsp;&nbsp;&nbsp;&nbsp;&nbsp;−\t$j$ = a specific destination\n",
    "## &nbsp;&nbsp;&nbsp;&nbsp;&nbsp;&nbsp;&nbsp;&nbsp;&nbsp;−\t$n$ = the set of origins\n",
    "## &nbsp;&nbsp;&nbsp;&nbsp;&nbsp;&nbsp;&nbsp;&nbsp;&nbsp;−\t$m$ = the set of destinations\n",
    "## &nbsp;&nbsp;&nbsp;&nbsp;&nbsp;&nbsp;&nbsp;&nbsp;&nbsp;−\t$a_i$ = weight at each node\n",
    "## &nbsp;&nbsp;&nbsp;&nbsp;&nbsp;&nbsp;&nbsp;&nbsp;&nbsp;−\t$c_{ij}$ = travel costs between nodes\n",
    "## &nbsp;&nbsp;&nbsp;&nbsp;&nbsp;&nbsp;&nbsp;&nbsp;&nbsp;−\t$x_{ij}$ = the decision variable at each node in the matrix\n",
    "## &nbsp;&nbsp;&nbsp;&nbsp;&nbsp;&nbsp;&nbsp;&nbsp;&nbsp;−\t$y_j$ = nodes chosen as service facilities\n",
    "## &nbsp;&nbsp;&nbsp;&nbsp;&nbsp;&nbsp;&nbsp;&nbsp;&nbsp;−\t$p$ = the number of facilities to be sited\n",
    "\n",
    "-----\n",
    "\n",
    "- Adapted from:\n",
    "#### Daskin, M. S. 1995. Network and Discrete Location: Models, Algorithms, and Applications. Hoboken, NJ, USA: John Wiley & Sons, Inc."
   ]
  },
  {
   "cell_type": "code",
   "execution_count": null,
   "metadata": {
    "collapsed": false
   },
   "outputs": [],
   "source": [
    "# define p-Median function\n",
    "def gbpPMP():\n",
    "    \n",
    "    t1 = time.time()\n",
    "    \n",
    "    # Define Global Variables\n",
    "    global Ai\n",
    "    global AiSum\n",
    "    global NEW_Records_PMP \n",
    "    \n",
    "    #     1. Data\n",
    "    # Demand\n",
    "    Ai = Ai\n",
    "    # Demand Sum\n",
    "    AiSum = AiSum\n",
    "    # Travel Costs\n",
    "    Cij = All_Dist_MILES\n",
    "    # Weighted Costs\n",
    "    Sij = Ai * Cij\n",
    "    # Total Client and Service nodes\n",
    "    client_nodes = range(len(Sij))\n",
    "    service_nodes = range(len(Sij[0]))\n",
    "    \n",
    "    #     2. Create Model, Set MIP Focus, Add Variables, & Update Model\n",
    "    # Instantiate Model\n",
    "    mPMP = gbp.Model(' -- p-Median -- ')\n",
    "    \n",
    "    # Set MIP focus to 'Optimal'\n",
    "    gbp.setParam('MIPFocus', 2)\n",
    "\n",
    "    # Add Client Decision Variables (iXj)\n",
    "    client_var = []\n",
    "    for orig in client_nodes:\n",
    "        client_var.append([])\n",
    "        for dest in service_nodes:\n",
    "            client_var[orig].append(mPMP.addVar(vtype=gbp.GRB.BINARY, \n",
    "                                                obj=Sij[orig][dest], \n",
    "                                                name='x'+str(orig+1)+'_'+str(dest+1)))\n",
    "    \n",
    "    # Add Service Decision Variables (j)\n",
    "    serv_var = []\n",
    "    for dest in service_nodes:\n",
    "        serv_var.append([])\n",
    "        serv_var[dest].append(mPMP.addVar(vtype=gbp.GRB.BINARY, \n",
    "                                        name='y'+str(dest+1)))\n",
    "    \n",
    "    # Update the model\n",
    "    mPMP.update()\n",
    "    \n",
    "    #     3. Set Objective Function\n",
    "    mPMP.setObjective(gbp.quicksum(Sij[orig][dest]*client_var[orig][dest] \n",
    "                            for orig in client_nodes for dest in service_nodes), \n",
    "                            gbp.GRB.MINIMIZE)\n",
    "    \n",
    "    \n",
    "    #     4. Add Constraints\n",
    "    # Assignment Constraints\n",
    "    for orig in client_nodes:\n",
    "        mPMP.addConstr(gbp.quicksum(client_var[orig][dest] \n",
    "                            for dest in service_nodes) == 1)\n",
    "    # Opening Constraints\n",
    "    for orig in service_nodes:\n",
    "        for dest in client_nodes:\n",
    "            mPMP.addConstr((serv_var[orig][0] - client_var[dest][orig] >= 0))\n",
    "    \n",
    "    # Facility Constraint\n",
    "    mPMP.addConstr(gbp.quicksum(serv_var[dest][0] for dest in service_nodes) == 2)\n",
    "    \n",
    "    #     5. Optimize and Print Results\n",
    "    # Solve\n",
    "    try:\n",
    "        mPMP.optimize()\n",
    "    except Exception as e:\n",
    "        exc_type, exc_obj, exc_tb = sys.exc_info()\n",
    "        fname = os.path.split(exc_tb.tb_frame.f_code.co_filename)[1]\n",
    "        print exc_type, fname, 'Line Number -- ',exc_tb.tb_lineno\n",
    "        print '   ################################################################'\n",
    "        print ' < ISSUE : ', e, ' >'\n",
    "        print '   ################################################################'\n",
    "    \n",
    "    # Write LP\n",
    "    mPMP.write('/Users/jgaboardi/Dropbox/NARSC/NARSC_Portland_2015/Discrete_Location/LP_Files/WaverlyPMP.lp')\n",
    "    t2 = time.time()-t1\n",
    "    \n",
    "    # Record and Display Results\n",
    "    print '\\n*************************************************************************'\n",
    "    selected = []\n",
    "    dbf1 = ps.open('shapefiles/RandomPoints_SERVICE.dbf')\n",
    "    NEW_Records_PMP = []\n",
    "    for v in mPMP.getVars():\n",
    "        if 'x' in v.VarName:\n",
    "            pass\n",
    "        elif v.x > 0:\n",
    "            var = '%s' % v.VarName\n",
    "            selected.append(var)\n",
    "            for i in range(dbf1.n_records):\n",
    "                if var in dbf1.read_record(i):\n",
    "                    x = dbf1.read_record(i)\n",
    "                    NEW_Records_PMP.append(x)\n",
    "                else:\n",
    "                    pass\n",
    "            print '    |                                            ', var\n",
    "    print '    | Selected Facility Locations --------------  ^^^^ '\n",
    "    print '    | Candidate Facilities [p] ----------------- ', len(selected)\n",
    "    val = mPMP.objVal\n",
    "    print '    | Objective Value (miles) ------------------ ', val\n",
    "    avg = float(mPMP.objVal)/float(AiSum)\n",
    "    print '    | Avg. Value / Client (miles) -------------- ', avg\n",
    "    print '    | Real Time to Optimize (sec.) ------------- ', t2\n",
    "    print '    | Date/Time -------------------------------- ', dt.datetime.now()\n",
    "    print '*************************************************************************'\n",
    "    print ' -- The p-Median Problem -- '\n",
    "    \n",
    "# Call p-Median Function   \n",
    "try:\n",
    "    gbpPMP()\n",
    "    print '\\nJames Gaboardi, 2015'\n",
    "except Exception as e:\n",
    "    exc_type, exc_obj, exc_tb = sys.exc_info()\n",
    "    fname = os.path.split(exc_tb.tb_frame.f_code.co_filename)[1]\n",
    "    print exc_type, fname, 'Line Number -- ',exc_tb.tb_lineno\n",
    "    print '   ################################################################'\n",
    "    print ' < ISSUE : ', e, ' >'\n",
    "    print '   ################################################################'"
   ]
  },
  {
   "cell_type": "markdown",
   "metadata": {},
   "source": [
    "### 2.2.2b&nbsp;&nbsp;&nbsp;&nbsp; <u>Instantiate Selected <i>p</i>-median shapefile</u>"
   ]
  },
  {
   "cell_type": "markdown",
   "metadata": {},
   "source": [
    "Following optimization, I created a new shapefile of the selected candidate service locations."
   ]
  },
  {
   "cell_type": "code",
   "execution_count": null,
   "metadata": {
    "collapsed": false
   },
   "outputs": [],
   "source": [
    "# define PMP shapefile function\n",
    "def Create_PMP():\n",
    "    try:\n",
    "        # Instantiate Shapefile\n",
    "        SHP_Median = shp.Writer(shp.POINT)\n",
    "        # Add Points\n",
    "        for idy,idx,x,y in NEW_Records_PMP:\n",
    "            SHP_Median.point(float(x), float(y))\n",
    "        # Add Fields\n",
    "        SHP_Median.field('y_ID')\n",
    "        SHP_Median.field('x_ID')\n",
    "        SHP_Median.field('LAT')\n",
    "        SHP_Median.field('LON')\n",
    "        # Add Records\n",
    "        for idy,idx,x,y in NEW_Records_PMP:\n",
    "            SHP_Median.record(idy,idx,x,y)\n",
    "        # Save Shapefile    \n",
    "        SHP_Median.save('/Users/jgaboardi/Dropbox/NARSC/NARSC_Portland_2015/Discrete_Location/shapefiles/Selected_Locations_Pmedian')\n",
    "    except Exception as e:\n",
    "        exc_type, exc_obj, exc_tb = sys.exc_info()\n",
    "        fname = os.path.split(exc_tb.tb_frame.f_code.co_filename)[1]\n",
    "        print exc_type, fname, 'Line Number -- ',exc_tb.tb_lineno\n",
    "        print '   ################################################################'\n",
    "        print ' < ISSUE : ', e, ' >'\n",
    "        print '   ################################################################'\n",
    "\n",
    "# Call PMP shapefile function\n",
    "try:\n",
    "    Create_PMP()\n",
    "except Exception as e:\n",
    "    exc_type, exc_obj, exc_tb = sys.exc_info()\n",
    "    fname = os.path.split(exc_tb.tb_frame.f_code.co_filename)[1]\n",
    "    print exc_type, fname, 'Line Number -- ',exc_tb.tb_lineno\n",
    "    print '   ################################################################'\n",
    "    print ' < ISSUE : ', e, ' >'\n",
    "    print '   ################################################################'"
   ]
  },
  {
   "cell_type": "markdown",
   "metadata": {},
   "source": [
    "----------------------"
   ]
  },
  {
   "cell_type": "markdown",
   "metadata": {},
   "source": [
    "### 2.2.3a  &nbsp;&nbsp;&nbsp;&nbsp;<u><i>p</i>-Center test [<i>p</i> = 2]</u>"
   ]
  },
  {
   "cell_type": "markdown",
   "metadata": {},
   "source": [
    "The <i>p</i>-center problem (PCP), also referred to as the minimax problem, sites facilities with a focus on equity and has been widely utilized in research as a counter-measure to the efficiency-based <i>p</i>-median problem.  The objective of the PCP is the minimization of the maximum (worst-case) travel cost from client nodes to service facilities (Minieka 1970; Shier 1977; Tansel, Francis, and Lowe 1983; Horner and Widener 2010)."
   ]
  },
  {
   "cell_type": "markdown",
   "metadata": {},
   "source": [
    "## <u>Minimize</u>\n",
    "\n",
    "# &nbsp;&nbsp;&nbsp;&nbsp;&nbsp;&nbsp;&nbsp;&nbsp; $W$\n",
    "\n",
    "## <u>Subject to</u>\n",
    "\n",
    "# &nbsp;&nbsp;&nbsp;&nbsp;&nbsp;&nbsp;&nbsp;&nbsp; $\\displaystyle\\sum_{j\\in m} x_{ij} = 1,$ &nbsp;&nbsp;&nbsp;&nbsp;&nbsp;&nbsp;&nbsp;&nbsp;&nbsp;&nbsp;&nbsp;&nbsp;   $\\forall i \\in n$\n",
    "\n",
    "# &nbsp;&nbsp;&nbsp;&nbsp;&nbsp;&nbsp;&nbsp;&nbsp; $\\displaystyle\\sum_{i \\in n} y_j = p$\n",
    "\n",
    "# &nbsp;&nbsp;&nbsp;&nbsp;&nbsp;&nbsp;&nbsp;&nbsp; $x_{ij} - y_j \\geq 0,$ &nbsp;&nbsp;&nbsp;&nbsp;&nbsp;&nbsp;&nbsp;&nbsp;&nbsp;&nbsp;&nbsp;  $\\forall i\\in n, j \\in m$\n",
    "\n",
    "# &nbsp;&nbsp;&nbsp;&nbsp;&nbsp;&nbsp;&nbsp;&nbsp; $\\displaystyle W \\geq \\sum_{j \\in m} c_{ij} x_{ij}$&nbsp;&nbsp;&nbsp;&nbsp;&nbsp;&nbsp;&nbsp;&nbsp;&nbsp; $\\forall i \\in n$\n",
    "\n",
    "# &nbsp;&nbsp;&nbsp;&nbsp;&nbsp;&nbsp;&nbsp;&nbsp; $x_{ij}, y_j \\in (0,1)$ &nbsp;&nbsp;&nbsp;&nbsp;&nbsp;&nbsp;&nbsp;&nbsp;&nbsp; $\\forall i \\in n, j \\in m$\n",
    "\n",
    "## <u>where</u>\n",
    "\n",
    "## &nbsp;&nbsp;&nbsp;&nbsp;&nbsp;&nbsp;&nbsp;&nbsp;&nbsp;−\t$W$ = the maximum travel cost between client and service nodes\n",
    "## &nbsp;&nbsp;&nbsp;&nbsp;&nbsp;&nbsp;&nbsp;&nbsp;&nbsp;−\t$i$ = a specific origin\n",
    "## &nbsp;&nbsp;&nbsp;&nbsp;&nbsp;&nbsp;&nbsp;&nbsp;&nbsp;−\t$j$ = a specific destination\n",
    "## &nbsp;&nbsp;&nbsp;&nbsp;&nbsp;&nbsp;&nbsp;&nbsp;&nbsp;−\t$n$ = the set of origins\n",
    "## &nbsp;&nbsp;&nbsp;&nbsp;&nbsp;&nbsp;&nbsp;&nbsp;&nbsp;−\t$m$ = the set of destinations\n",
    "## &nbsp;&nbsp;&nbsp;&nbsp;&nbsp;&nbsp;&nbsp;&nbsp;&nbsp;−\t$a_i$ = weight at each node\n",
    "## &nbsp;&nbsp;&nbsp;&nbsp;&nbsp;&nbsp;&nbsp;&nbsp;&nbsp;−\t$c_{ij}$ = travel costs between nodes\n",
    "## &nbsp;&nbsp;&nbsp;&nbsp;&nbsp;&nbsp;&nbsp;&nbsp;&nbsp;−\t$x_{ij}$ = the decision variable at each node in the matrix\n",
    "## &nbsp;&nbsp;&nbsp;&nbsp;&nbsp;&nbsp;&nbsp;&nbsp;&nbsp;−\t$y_j$ = nodes chosen as service facilities\n",
    "## &nbsp;&nbsp;&nbsp;&nbsp;&nbsp;&nbsp;&nbsp;&nbsp;&nbsp;−\t$p$ = the number of facilities to be sited\n",
    "\n",
    "-----\n",
    "\n",
    "- Adapted from:\n",
    "#### Daskin, M. S. 1995. Network and Discrete Location: Models, Algorithms, and Applications. Hoboken, NJ, USA: John Wiley & Sons, Inc."
   ]
  },
  {
   "cell_type": "code",
   "execution_count": null,
   "metadata": {
    "collapsed": false
   },
   "outputs": [],
   "source": [
    "# define PCP shapefile function\n",
    "def gbpPCP():\n",
    "    \n",
    "    t1 = time.time()\n",
    "    \n",
    "    # Define Global Variables\n",
    "    global Cij \n",
    "    global NEW_Records_PCP\n",
    "    \n",
    "    #     1. Data\n",
    "    Cij = All_Dist_MILES\n",
    "    \n",
    "    # Total Client and Service nodes\n",
    "    client_nodes = range(len(Cij))\n",
    "    service_nodes = range(len(Cij[0]))\n",
    "    \n",
    "    #    2. Create Model, Set MIP Focus, Add Variables, & Update Model\n",
    "    # Instantiate Model\n",
    "    mPCP = gbp.Model(' -- P-Center -- ')\n",
    "    # Set MIP focus to 'Optimal'\n",
    "    gbp.setParam('MIPFocus', 2)\n",
    "    \n",
    "    # Add Client Decision Variables (iXj)\n",
    "    client_var = []\n",
    "    for orig in client_nodes:\n",
    "        client_var.append([])\n",
    "        for dest in service_nodes:\n",
    "            client_var[orig].append(mPCP.addVar(vtype=gbp.GRB.BINARY, \n",
    "                                                obj=Cij[orig][dest], \n",
    "                                                name='x'+str(orig+1)+'_'+str(dest+1)))\n",
    "    # Add Service Decision Variables (j)\n",
    "    serv_var = []\n",
    "    for dest in service_nodes:\n",
    "        serv_var.append([])\n",
    "        serv_var[dest].append(mPCP.addVar(vtype=gbp.GRB.BINARY, \n",
    "                                        name='y'+str(dest+1)))\n",
    "    \n",
    "    # Add the Maximum travel cost variable\n",
    "    W = mPCP.addVar(vtype=gbp.GRB.CONTINUOUS,\n",
    "                name='W')        \n",
    "    \n",
    "    # Update the model\n",
    "    mPCP.update()  \n",
    "    \n",
    "    #     3. Set the Objective function\n",
    "    mPCP.setObjective(W, gbp.GRB.MINIMIZE)\n",
    "    \n",
    "    #     4. Add Constraints\n",
    "    # Add Assignment Constraints\n",
    "    for orig in client_nodes:\n",
    "        mPCP.addConstr(gbp.quicksum(client_var[orig][dest] \n",
    "                            for dest in service_nodes) == 1)\n",
    "    \n",
    "    # Add Opening constraints\n",
    "    for orig in service_nodes:\n",
    "        for dest in client_nodes:\n",
    "            mPCP.addConstr((serv_var[orig][0] - client_var[dest][orig] >= 0))\n",
    "    \n",
    "    # Add Facility Constraints\n",
    "    mPCP.addConstr(gbp.quicksum(serv_var[dest][0] for dest in service_nodes) == 2)\n",
    "    \n",
    "    # Add Maximum travel cost constraints\n",
    "    for orig in client_nodes:\n",
    "        mPCP.addConstr(gbp.quicksum(Cij[orig][dest]*client_var[orig][dest]\n",
    "                            for dest in service_nodes) - W <= 0)\n",
    "    \n",
    "    #     5. Optimize and Print Results\n",
    "    # Solve\n",
    "    try:\n",
    "        mPCP.optimize()\n",
    "    except Exception as e:\n",
    "        exc_type, exc_obj, exc_tb = sys.exc_info()\n",
    "        fname = os.path.split(exc_tb.tb_frame.f_code.co_filename)[1]\n",
    "        print exc_type, fname, 'Line Number -- ',exc_tb.tb_lineno\n",
    "        print '   ################################################################'\n",
    "        print ' < ISSUE : ', e, ' >'\n",
    "        print '   ################################################################'  \n",
    "    \n",
    "    # Write LP\n",
    "    mPCP.write('/Users/jgaboardi/Dropbox/NARSC/NARSC_Portland_2015/Discrete_Location/LP_Files/WaverlyPCP.lp')\n",
    "    t2 = time.time()-t1\n",
    "    print '\\n*************************************************************************'\n",
    "    \n",
    "    # Record and Display Results\n",
    "    selected = []\n",
    "    dbf1 = ps.open('shapefiles/RandomPoints_SERVICE.dbf')\n",
    "    NEW_Records_PCP = []\n",
    "    for v in mPCP.getVars():\n",
    "        if 'x' in v.VarName:\n",
    "            pass\n",
    "        elif 'W' in v.VarName:\n",
    "            pass\n",
    "        elif v.x > 0:\n",
    "            var = '%s' % v.VarName\n",
    "            selected.append(var)\n",
    "            for i in range(dbf1.n_records):\n",
    "                if var in dbf1.read_record(i):\n",
    "                    x = dbf1.read_record(i)\n",
    "                    NEW_Records_PCP.append(x)\n",
    "                else:\n",
    "                    pass\n",
    "            print '    |                                            ', var,  '         '\n",
    "    print '    | Selected Facility Locations -------------- ^^^^ ',  '         '\n",
    "    print '    | Candidate Facilities [p] ----------------- ', len(selected), '           '\n",
    "    val = mPCP.objVal\n",
    "    print '    | Objective Value (miles) ------------------ ', val, '     '\n",
    "    print '    | Real Time to Optimize (sec.) ------------- ', t2\n",
    "    print '    | Date/Time -------------------------------- ', dt.datetime.now()\n",
    "    print '*************************************************************************'\n",
    "    print ' -- The p-Center Problem -- '\n",
    "    \n",
    "# Call p-Center Function   \n",
    "try:\n",
    "    gbpPCP()\n",
    "    print '\\nJames Gaboardi, 2015'\n",
    "except Exception as e:\n",
    "    exc_type, exc_obj, exc_tb = sys.exc_info()\n",
    "    fname = os.path.split(exc_tb.tb_frame.f_code.co_filename)[1]\n",
    "    print exc_type, fname, 'Line Number -- ',exc_tb.tb_lineno\n",
    "    print '   ################################################################'\n",
    "    print ' < ISSUE : ', e, ' >'\n",
    "    print '   ################################################################'    "
   ]
  },
  {
   "cell_type": "markdown",
   "metadata": {},
   "source": [
    "### 2.2.3b &nbsp;&nbsp;&nbsp;&nbsp;<u>Instantiate selected <i>p</i>-Center shapefile</u>"
   ]
  },
  {
   "cell_type": "markdown",
   "metadata": {},
   "source": [
    "Following optimization, I created a new shapefile of the selected candidate service locations."
   ]
  },
  {
   "cell_type": "code",
   "execution_count": null,
   "metadata": {
    "collapsed": false
   },
   "outputs": [],
   "source": [
    "# define PCP shapefile function\n",
    "def Create_PCP():\n",
    "    try:\n",
    "        # Instantiate Shapefile\n",
    "        SHP_Center = shp.Writer(shp.POINT)\n",
    "        # Add Points\n",
    "        for idy,idx,x,y in NEW_Records_PCP:\n",
    "            SHP_Center.point(float(x), float(y))\n",
    "        # Add Fields\n",
    "        SHP_Center.field('y_ID')\n",
    "        SHP_Center.field('x_ID')\n",
    "        SHP_Center.field('LAT')\n",
    "        SHP_Center.field('LON')\n",
    "        # Add Records\n",
    "        for idy,idx,x,y in NEW_Records_PCP:\n",
    "            SHP_Center.record(idy,idx,x,y)\n",
    "        # Save Shapefile    \n",
    "        SHP_Center.save('/Users/jgaboardi/Dropbox/NARSC/NARSC_Portland_2015/Discrete_Location/shapefiles/Selected_Locations_Pcenter')\n",
    "    except Exception as e:\n",
    "        exc_type, exc_obj, exc_tb = sys.exc_info()\n",
    "        fname = os.path.split(exc_tb.tb_frame.f_code.co_filename)[1]\n",
    "        print exc_type, fname, 'Line Number -- ',exc_tb.tb_lineno\n",
    "        print '   ################################################################'\n",
    "        print ' < ISSUE : ', e, ' >'\n",
    "        print '   ################################################################'\n",
    "\n",
    "# Call PCP shapefile function\n",
    "try:\n",
    "    Create_PCP()\n",
    "except Exception as e:\n",
    "    exc_type, exc_obj, exc_tb = sys.exc_info()\n",
    "    fname = os.path.split(exc_tb.tb_frame.f_code.co_filename)[1]\n",
    "    print exc_type, fname, 'Line Number -- ',exc_tb.tb_lineno\n",
    "    print '   ################################################################'\n",
    "    print ' < ISSUE : ', e, ' >'\n",
    "    print '   ################################################################'"
   ]
  },
  {
   "cell_type": "markdown",
   "metadata": {},
   "source": [
    "-------------"
   ]
  },
  {
   "cell_type": "markdown",
   "metadata": {},
   "source": [
    "## 2.3 &nbsp;&nbsp;&nbsp;&nbsp;<u>Selected locations</u></b>"
   ]
  },
  {
   "cell_type": "markdown",
   "metadata": {},
   "source": [
    "In the final step, I visualize the selected locations on the SCLP, PMP, and PCP by calling the shapefiles created after optimizing the problems. "
   ]
  },
  {
   "cell_type": "markdown",
   "metadata": {},
   "source": [
    "<font size='5' face='Times New Roman'><b><u>Selected Set Cover, <i>p</i>-median, and <i>p</i>-center locations</u></b></font>"
   ]
  },
  {
   "cell_type": "code",
   "execution_count": null,
   "metadata": {
    "collapsed": false,
    "scrolled": true
   },
   "outputs": [],
   "source": [
    "figsize(10,10)\n",
    "# Draw Network Actual Roads and Nodes\n",
    "nx.draw(g, ntw.node_coords, node_size=5, alpha=0.25, edge_color='r', width=2)\n",
    "# Draw Graph\n",
    "nx.draw(g1, ntw.node_coords, node_size=10, alpha=0.5)\n",
    "\n",
    "# Set Cover\n",
    "SetCover = ps.open('shapefiles/Selected_Locations_SetCover.shp')\n",
    "points_setcover = {}\n",
    "for idx, coords in enumerate(SetCover):\n",
    "    setcover_g.add_node(idx)\n",
    "    points_setcover[idx] = coords\n",
    "    setcover_g.node[idx] = coords\n",
    "nx.draw(setcover_g, points_setcover, \n",
    "        node_size=1100, alpha=1, node_color='g')\n",
    "\n",
    "# p-Median\n",
    "P_Med = ps.open('shapefiles/Selected_Locations_Pmedian.shp')\n",
    "points_median = {}\n",
    "for idx, coords in enumerate(P_Med):\n",
    "    median_g.add_node(idx)\n",
    "    points_median[idx] = coords\n",
    "    median_g.node[idx] = coords\n",
    "nx.draw(median_g, points_median, \n",
    "        node_size=700, alpha=1, node_color='r')\n",
    "\n",
    "# p-Center\n",
    "P_Cent = ps.open('shapefiles/Selected_Locations_Pcenter.shp')\n",
    "points_center = {}\n",
    "for idx, coords in enumerate(P_Cent):\n",
    "    center_g.add_node(idx)\n",
    "    points_center[idx] = coords\n",
    "    center_g.node[idx] = coords\n",
    "nx.draw(center_g, points_center, \n",
    "        node_size=300, alpha=1, node_color='b')\n",
    "\n",
    "# Draw Graph of Random Service\n",
    "nx.draw(GRAPH_client, points_client, \n",
    "        node_size=15, alpha=.5, node_color='k')\n",
    "\n",
    "# Draw Graph of Random Service\n",
    "nx.draw(GRAPH_service, points_service, \n",
    "        node_size=50, alpha=1, node_color='k')\n",
    "\n",
    "# Legend (Ordered Dictionary)\n",
    "LEGEND = OrderedDict()\n",
    "LEGEND['Network Nodes']=g\n",
    "LEGEND['Roads']=g\n",
    "LEGEND['Graph Vertices']=g1\n",
    "LEGEND['Graph Edges']=g1\n",
    "LEGEND['Optimal Set Cover (S=1.25)']=setcover_g\n",
    "LEGEND['Optimal p-Median (p=2)']=median_g\n",
    "LEGEND['Optimal p-Center (p=2)']=center_g\n",
    "LEGEND['Client Nodes']=GRAPH_client\n",
    "LEGEND['Service Nodes']=GRAPH_service\n",
    "legend(LEGEND, loc='lower right', fancybox=True, framealpha=0.5, scatterpoints=1)\n",
    "# Title\n",
    "title('Waverly Hills\\n Tallahassee, Florida', family='Times New Roman', \n",
    "      size=40, color='k', backgroundcolor='w', weight='bold')\n",
    "# North Arrow and 'N' --> Must be changed for different spatial resolutions, etc.\n",
    "arrow(-84.281, 30.507, 0.0, 0.01, width=.0003, head_width=0.0012, \n",
    "          head_length=0.002, fc='k', ec='k',alpha=0.75,)\n",
    "annotate('N', xy=(-84.2815, 30.52), fontstyle='italic', fontsize='xx-large',\n",
    "            fontweight='heavy', alpha=0.75)"
   ]
  },
  {
   "cell_type": "markdown",
   "metadata": {},
   "source": [
    "---------------------"
   ]
  },
  {
   "cell_type": "markdown",
   "metadata": {},
   "source": [
    "# 3. <u>Next Steps</u>"
   ]
  },
  {
   "cell_type": "markdown",
   "metadata": {},
   "source": [
    "- refactor the dijkstra in `PySAL.Network` to increase efficiency\n",
    "\n",
    "- improve cases for determining the simplified network to tackle to issue of network size\n",
    "\n",
    "- integrate PySAL with an open source solver"
   ]
  },
  {
   "cell_type": "markdown",
   "metadata": {},
   "source": [
    "----------------"
   ]
  },
  {
   "cell_type": "markdown",
   "metadata": {},
   "source": [
    "# GitHub \n",
    "# https://github.com/jGaboardi/Facility_Location"
   ]
  },
  {
   "cell_type": "markdown",
   "metadata": {},
   "source": [
    "------------------------"
   ]
  },
  {
   "cell_type": "code",
   "execution_count": null,
   "metadata": {
    "collapsed": false
   },
   "outputs": [],
   "source": [
    "IPd.HTML('https://github.com/jGaboardi')"
   ]
  },
  {
   "cell_type": "markdown",
   "metadata": {},
   "source": [
    "--------------------------"
   ]
  },
  {
   "cell_type": "markdown",
   "metadata": {},
   "source": [
    "### <u>References</u>"
   ]
  },
  {
   "cell_type": "markdown",
   "metadata": {},
   "source": [
    "- Beasley, J. E. 1987. An algorithm for set covering problem. European Journal of Operational Research 31 (1):85–93.\n",
    "\n",
    "- Beasley, J. E., and P. C. Chu. 1996. A genetic algorithm for the set covering problem. European Journal of Operational Research 94 (2):392–404.\n",
    "\n",
    "- Bertrand, J. W. M., and J. C. Fransoo. 2002. Operations management research methodologies using quantitative modeling. International Journal of Operations and Production Management 22 (2):241–264.\n",
    "\n",
    "- Caliper Corporation. 2008. TransCAD. Transportation Planning Software (information brochure).\n",
    "\n",
    "- Church, R. L., and A. T. Murray. 2009. Business Site Selections, Locational Analysis, and GIS. Hoboken, NJ, USA: John Wiley & Sons, Inc.\n",
    "\n",
    "- Current, J., and M. O. Kelly. 1992. Locating Emergency Warning Sirens. Decision Sciences 23:221–234.\n",
    "\n",
    "- Daskin, M. S. 1995. Network and Discrete Location: Models, Algorithms, and Applications. Hoboken, NJ, USA: John Wiley & Sons, Inc.\n",
    "\n",
    "- Gass, S. I., and A. A. Assad. 2005. An Annotated Timeline of Operations Research: An Informal History. New York: Springer.\n",
    "\n",
    "- Gurobi. 2013. Gurobi optimizer quick start guide.\n",
    "\n",
    "- Hadley, G. 1963. Linear Programming. Reading, MA: London: Addison-Wesley Pub. Co.\n",
    "\n",
    "- Hakimi, S. L. 1964. Optimum Locations of Switching Centers and the Absolute Centers and Medians of a Graph. Operations Research 12 (3):450–459.\n",
    "\n",
    "- Hoffman, K. L., M. Padberg, and G. Rinaldi. 2011. The Traveling Salesman Problem. Encyclopedia of Operations Research and Management Science 3 (1):1573–1578.\n",
    "\n",
    "- Horner, M. W., and M. J. Widener. 2010. How do socioeconomic characteristics interact with equity and efficiency considerations? An analysis of hurricane disaster relief goods provision. Geospatial Analysis and Modelling of Urban Structure and Dynamics 99:393–414.\n",
    "\n",
    "- Kalcsics, J., S. Nickel, M. a. Pozo, J. Puerto, and A. M. Rodríguez-Chía. 2014. The multicriteria p-facility median location problem on networks. European Journal of Operational Research 235 (3):484–493.\n",
    "\n",
    "- Longley, P. A., M. F. Goodchild, D. J. Maguire, and D. W. Rhind. 2011. Geographic Information Systems & Science 3rd ed. Hoboken, NJ, USA: John Wiley & Sons, Inc.\n",
    "\n",
    "- Miller, H. J., and S.-L. Shaw. 2001. Geographic Information Systems for Transportation. New York: Oxford University Press.\n",
    "\n",
    "- Minieka, E. 1970. The m-Center Problem. SIAM Review 12:38–39.\n",
    "\n",
    "- Owen, S. H., and M. S. Daskin. 1998. Strategic facility location: A review. European Journal of Operational Research 111 (3):423–447.\n",
    "\n",
    "- Peet, R. 1998. Introduction: Geography, Philosophy, and Social Theory. In Modern Geographical Thought, 1–33. Wiley-Blackwell.\n",
    "\n",
    "- pulp documentation team. 2009. The Optimisation Process. PuLP v1.4.6 documentation. http://www.coin-or.org/PuLP/main/the_optimisation_process.html (last accessed 10 October 2015).\n",
    "\n",
    "- PySAL Developers. 2014. PySAL. https://pysal.readthedocs.org/en/latest/.\n",
    "\n",
    "- Python Software Foundation. 2015. Python.\n",
    "\n",
    "- Shier, D. R. 1977. A Min–Max Theorem for p-Center Problems on a Tree. Transportation Science 11:243–52.\n",
    "\n",
    "- Tansel, B. C., R. L. Francis, and T. J. Lowe. 1983. Location on Networks: A survey. Part I: The p-Center and p-Median Problems. Management Science 29 (4):482–497.\n",
    "\n",
    "- Teitz, M. B., and P. Bart. 1968. Heuristic Methods for Estimating the Generalized Vertex Median of a Weighted Graph. Operations Research 16 (5):955–961.\n",
    "\n",
    "- US Census Bureau. 2015. TIGER/Line® Shapefiles and TIGER/Line® Files. U.S. Census Bureau Geography. https://www.census.gov/geo/maps-data/data/tiger-line.html."
   ]
  },
  {
   "cell_type": "markdown",
   "metadata": {},
   "source": [
    "------------------"
   ]
  }
 ],
 "metadata": {
  "kernelspec": {
   "display_name": "Python 2",
   "language": "python",
   "name": "python2"
  },
  "language_info": {
   "codemirror_mode": {
    "name": "ipython",
    "version": 2
   },
   "file_extension": ".py",
   "mimetype": "text/x-python",
   "name": "python",
   "nbconvert_exporter": "python",
   "pygments_lexer": "ipython2",
   "version": "2.7.9"
  }
 },
 "nbformat": 4,
 "nbformat_minor": 0
}
